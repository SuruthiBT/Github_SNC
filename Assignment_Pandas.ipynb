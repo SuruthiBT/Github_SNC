{
  "nbformat": 4,
  "nbformat_minor": 0,
  "metadata": {
    "colab": {
      "provenance": [],
      "authorship_tag": "ABX9TyMp79XKDjNF+1TuaXwAEWfK",
      "include_colab_link": true
    },
    "kernelspec": {
      "name": "python3",
      "display_name": "Python 3"
    },
    "language_info": {
      "name": "python"
    }
  },
  "cells": [
    {
      "cell_type": "markdown",
      "metadata": {
        "id": "view-in-github",
        "colab_type": "text"
      },
      "source": [
        "<a href=\"https://colab.research.google.com/github/SuruthiBT/Github_SNC/blob/main/Assignment_Pandas.ipynb\" target=\"_parent\"><img src=\"https://colab.research.google.com/assets/colab-badge.svg\" alt=\"Open In Colab\"/></a>"
      ]
    },
    {
      "cell_type": "code",
      "execution_count": 7,
      "metadata": {
        "colab": {
          "base_uri": "https://localhost:8080/",
          "height": 538
        },
        "id": "o3V1g0oXoEtY",
        "outputId": "8cf56c78-1625-47cf-bad2-4371d4cd45f2"
      },
      "outputs": [
        {
          "output_type": "execute_result",
          "data": {
            "text/plain": [
              "   Unnamed: 0                                       Product_name  \\\n",
              "0           0  Gillette Venus Snap Hair Remover Women Body Razor   \n",
              "1           1  Whisper Bindazzz Night Period Panty for Heavy ...   \n",
              "2           2  Palmolive Body Wash Coconut Joy - Exfoliator w...   \n",
              "3           3  Sanfe Spotlite Sensitive Areas Body Serum For ...   \n",
              "4           4  Carmesi Facial Razor for Women - Instant & Pai...   \n",
              "\n",
              "  Original_price  Offer_price Offer_percentage    Extra_offer  \\\n",
              "0            399          299               25  Not available   \n",
              "1            399          359               10  Not available   \n",
              "2            279          223               20  Not available   \n",
              "3            399          379                5   Extra 5% Off   \n",
              "4            299          194               35  Not available   \n",
              "\n",
              "  Shades_and_sizes Featured_product Best_seller_product  \n",
              "0    Not available         FEATURED          BESTSELLER  \n",
              "1    Not available         FEATURED          BESTSELLER  \n",
              "2    Not available         FEATURED       Not available  \n",
              "3    Not available         FEATURED          BESTSELLER  \n",
              "4    Not available         FEATURED          BESTSELLER  "
            ],
            "text/html": [
              "\n",
              "  <div id=\"df-607075a2-3ee4-4cdd-8850-fec02b2b4a55\" class=\"colab-df-container\">\n",
              "    <div>\n",
              "<style scoped>\n",
              "    .dataframe tbody tr th:only-of-type {\n",
              "        vertical-align: middle;\n",
              "    }\n",
              "\n",
              "    .dataframe tbody tr th {\n",
              "        vertical-align: top;\n",
              "    }\n",
              "\n",
              "    .dataframe thead th {\n",
              "        text-align: right;\n",
              "    }\n",
              "</style>\n",
              "<table border=\"1\" class=\"dataframe\">\n",
              "  <thead>\n",
              "    <tr style=\"text-align: right;\">\n",
              "      <th></th>\n",
              "      <th>Unnamed: 0</th>\n",
              "      <th>Product_name</th>\n",
              "      <th>Original_price</th>\n",
              "      <th>Offer_price</th>\n",
              "      <th>Offer_percentage</th>\n",
              "      <th>Extra_offer</th>\n",
              "      <th>Shades_and_sizes</th>\n",
              "      <th>Featured_product</th>\n",
              "      <th>Best_seller_product</th>\n",
              "    </tr>\n",
              "  </thead>\n",
              "  <tbody>\n",
              "    <tr>\n",
              "      <th>0</th>\n",
              "      <td>0</td>\n",
              "      <td>Gillette Venus Snap Hair Remover Women Body Razor</td>\n",
              "      <td>399</td>\n",
              "      <td>299</td>\n",
              "      <td>25</td>\n",
              "      <td>Not available</td>\n",
              "      <td>Not available</td>\n",
              "      <td>FEATURED</td>\n",
              "      <td>BESTSELLER</td>\n",
              "    </tr>\n",
              "    <tr>\n",
              "      <th>1</th>\n",
              "      <td>1</td>\n",
              "      <td>Whisper Bindazzz Night Period Panty for Heavy ...</td>\n",
              "      <td>399</td>\n",
              "      <td>359</td>\n",
              "      <td>10</td>\n",
              "      <td>Not available</td>\n",
              "      <td>Not available</td>\n",
              "      <td>FEATURED</td>\n",
              "      <td>BESTSELLER</td>\n",
              "    </tr>\n",
              "    <tr>\n",
              "      <th>2</th>\n",
              "      <td>2</td>\n",
              "      <td>Palmolive Body Wash Coconut Joy - Exfoliator w...</td>\n",
              "      <td>279</td>\n",
              "      <td>223</td>\n",
              "      <td>20</td>\n",
              "      <td>Not available</td>\n",
              "      <td>Not available</td>\n",
              "      <td>FEATURED</td>\n",
              "      <td>Not available</td>\n",
              "    </tr>\n",
              "    <tr>\n",
              "      <th>3</th>\n",
              "      <td>3</td>\n",
              "      <td>Sanfe Spotlite Sensitive Areas Body Serum For ...</td>\n",
              "      <td>399</td>\n",
              "      <td>379</td>\n",
              "      <td>5</td>\n",
              "      <td>Extra 5% Off</td>\n",
              "      <td>Not available</td>\n",
              "      <td>FEATURED</td>\n",
              "      <td>BESTSELLER</td>\n",
              "    </tr>\n",
              "    <tr>\n",
              "      <th>4</th>\n",
              "      <td>4</td>\n",
              "      <td>Carmesi Facial Razor for Women - Instant &amp; Pai...</td>\n",
              "      <td>299</td>\n",
              "      <td>194</td>\n",
              "      <td>35</td>\n",
              "      <td>Not available</td>\n",
              "      <td>Not available</td>\n",
              "      <td>FEATURED</td>\n",
              "      <td>BESTSELLER</td>\n",
              "    </tr>\n",
              "  </tbody>\n",
              "</table>\n",
              "</div>\n",
              "    <div class=\"colab-df-buttons\">\n",
              "\n",
              "  <div class=\"colab-df-container\">\n",
              "    <button class=\"colab-df-convert\" onclick=\"convertToInteractive('df-607075a2-3ee4-4cdd-8850-fec02b2b4a55')\"\n",
              "            title=\"Convert this dataframe to an interactive table.\"\n",
              "            style=\"display:none;\">\n",
              "\n",
              "  <svg xmlns=\"http://www.w3.org/2000/svg\" height=\"24px\" viewBox=\"0 -960 960 960\">\n",
              "    <path d=\"M120-120v-720h720v720H120Zm60-500h600v-160H180v160Zm220 220h160v-160H400v160Zm0 220h160v-160H400v160ZM180-400h160v-160H180v160Zm440 0h160v-160H620v160ZM180-180h160v-160H180v160Zm440 0h160v-160H620v160Z\"/>\n",
              "  </svg>\n",
              "    </button>\n",
              "\n",
              "  <style>\n",
              "    .colab-df-container {\n",
              "      display:flex;\n",
              "      gap: 12px;\n",
              "    }\n",
              "\n",
              "    .colab-df-convert {\n",
              "      background-color: #E8F0FE;\n",
              "      border: none;\n",
              "      border-radius: 50%;\n",
              "      cursor: pointer;\n",
              "      display: none;\n",
              "      fill: #1967D2;\n",
              "      height: 32px;\n",
              "      padding: 0 0 0 0;\n",
              "      width: 32px;\n",
              "    }\n",
              "\n",
              "    .colab-df-convert:hover {\n",
              "      background-color: #E2EBFA;\n",
              "      box-shadow: 0px 1px 2px rgba(60, 64, 67, 0.3), 0px 1px 3px 1px rgba(60, 64, 67, 0.15);\n",
              "      fill: #174EA6;\n",
              "    }\n",
              "\n",
              "    .colab-df-buttons div {\n",
              "      margin-bottom: 4px;\n",
              "    }\n",
              "\n",
              "    [theme=dark] .colab-df-convert {\n",
              "      background-color: #3B4455;\n",
              "      fill: #D2E3FC;\n",
              "    }\n",
              "\n",
              "    [theme=dark] .colab-df-convert:hover {\n",
              "      background-color: #434B5C;\n",
              "      box-shadow: 0px 1px 3px 1px rgba(0, 0, 0, 0.15);\n",
              "      filter: drop-shadow(0px 1px 2px rgba(0, 0, 0, 0.3));\n",
              "      fill: #FFFFFF;\n",
              "    }\n",
              "  </style>\n",
              "\n",
              "    <script>\n",
              "      const buttonEl =\n",
              "        document.querySelector('#df-607075a2-3ee4-4cdd-8850-fec02b2b4a55 button.colab-df-convert');\n",
              "      buttonEl.style.display =\n",
              "        google.colab.kernel.accessAllowed ? 'block' : 'none';\n",
              "\n",
              "      async function convertToInteractive(key) {\n",
              "        const element = document.querySelector('#df-607075a2-3ee4-4cdd-8850-fec02b2b4a55');\n",
              "        const dataTable =\n",
              "          await google.colab.kernel.invokeFunction('convertToInteractive',\n",
              "                                                    [key], {});\n",
              "        if (!dataTable) return;\n",
              "\n",
              "        const docLinkHtml = 'Like what you see? Visit the ' +\n",
              "          '<a target=\"_blank\" href=https://colab.research.google.com/notebooks/data_table.ipynb>data table notebook</a>'\n",
              "          + ' to learn more about interactive tables.';\n",
              "        element.innerHTML = '';\n",
              "        dataTable['output_type'] = 'display_data';\n",
              "        await google.colab.output.renderOutput(dataTable, element);\n",
              "        const docLink = document.createElement('div');\n",
              "        docLink.innerHTML = docLinkHtml;\n",
              "        element.appendChild(docLink);\n",
              "      }\n",
              "    </script>\n",
              "  </div>\n",
              "\n",
              "\n",
              "    <div id=\"df-75d686ff-66b6-4842-814a-32a6b848db89\">\n",
              "      <button class=\"colab-df-quickchart\" onclick=\"quickchart('df-75d686ff-66b6-4842-814a-32a6b848db89')\"\n",
              "                title=\"Suggest charts\"\n",
              "                style=\"display:none;\">\n",
              "\n",
              "<svg xmlns=\"http://www.w3.org/2000/svg\" height=\"24px\"viewBox=\"0 0 24 24\"\n",
              "     width=\"24px\">\n",
              "    <g>\n",
              "        <path d=\"M19 3H5c-1.1 0-2 .9-2 2v14c0 1.1.9 2 2 2h14c1.1 0 2-.9 2-2V5c0-1.1-.9-2-2-2zM9 17H7v-7h2v7zm4 0h-2V7h2v10zm4 0h-2v-4h2v4z\"/>\n",
              "    </g>\n",
              "</svg>\n",
              "      </button>\n",
              "\n",
              "<style>\n",
              "  .colab-df-quickchart {\n",
              "      --bg-color: #E8F0FE;\n",
              "      --fill-color: #1967D2;\n",
              "      --hover-bg-color: #E2EBFA;\n",
              "      --hover-fill-color: #174EA6;\n",
              "      --disabled-fill-color: #AAA;\n",
              "      --disabled-bg-color: #DDD;\n",
              "  }\n",
              "\n",
              "  [theme=dark] .colab-df-quickchart {\n",
              "      --bg-color: #3B4455;\n",
              "      --fill-color: #D2E3FC;\n",
              "      --hover-bg-color: #434B5C;\n",
              "      --hover-fill-color: #FFFFFF;\n",
              "      --disabled-bg-color: #3B4455;\n",
              "      --disabled-fill-color: #666;\n",
              "  }\n",
              "\n",
              "  .colab-df-quickchart {\n",
              "    background-color: var(--bg-color);\n",
              "    border: none;\n",
              "    border-radius: 50%;\n",
              "    cursor: pointer;\n",
              "    display: none;\n",
              "    fill: var(--fill-color);\n",
              "    height: 32px;\n",
              "    padding: 0;\n",
              "    width: 32px;\n",
              "  }\n",
              "\n",
              "  .colab-df-quickchart:hover {\n",
              "    background-color: var(--hover-bg-color);\n",
              "    box-shadow: 0 1px 2px rgba(60, 64, 67, 0.3), 0 1px 3px 1px rgba(60, 64, 67, 0.15);\n",
              "    fill: var(--button-hover-fill-color);\n",
              "  }\n",
              "\n",
              "  .colab-df-quickchart-complete:disabled,\n",
              "  .colab-df-quickchart-complete:disabled:hover {\n",
              "    background-color: var(--disabled-bg-color);\n",
              "    fill: var(--disabled-fill-color);\n",
              "    box-shadow: none;\n",
              "  }\n",
              "\n",
              "  .colab-df-spinner {\n",
              "    border: 2px solid var(--fill-color);\n",
              "    border-color: transparent;\n",
              "    border-bottom-color: var(--fill-color);\n",
              "    animation:\n",
              "      spin 1s steps(1) infinite;\n",
              "  }\n",
              "\n",
              "  @keyframes spin {\n",
              "    0% {\n",
              "      border-color: transparent;\n",
              "      border-bottom-color: var(--fill-color);\n",
              "      border-left-color: var(--fill-color);\n",
              "    }\n",
              "    20% {\n",
              "      border-color: transparent;\n",
              "      border-left-color: var(--fill-color);\n",
              "      border-top-color: var(--fill-color);\n",
              "    }\n",
              "    30% {\n",
              "      border-color: transparent;\n",
              "      border-left-color: var(--fill-color);\n",
              "      border-top-color: var(--fill-color);\n",
              "      border-right-color: var(--fill-color);\n",
              "    }\n",
              "    40% {\n",
              "      border-color: transparent;\n",
              "      border-right-color: var(--fill-color);\n",
              "      border-top-color: var(--fill-color);\n",
              "    }\n",
              "    60% {\n",
              "      border-color: transparent;\n",
              "      border-right-color: var(--fill-color);\n",
              "    }\n",
              "    80% {\n",
              "      border-color: transparent;\n",
              "      border-right-color: var(--fill-color);\n",
              "      border-bottom-color: var(--fill-color);\n",
              "    }\n",
              "    90% {\n",
              "      border-color: transparent;\n",
              "      border-bottom-color: var(--fill-color);\n",
              "    }\n",
              "  }\n",
              "</style>\n",
              "\n",
              "      <script>\n",
              "        async function quickchart(key) {\n",
              "          const quickchartButtonEl =\n",
              "            document.querySelector('#' + key + ' button');\n",
              "          quickchartButtonEl.disabled = true;  // To prevent multiple clicks.\n",
              "          quickchartButtonEl.classList.add('colab-df-spinner');\n",
              "          try {\n",
              "            const charts = await google.colab.kernel.invokeFunction(\n",
              "                'suggestCharts', [key], {});\n",
              "          } catch (error) {\n",
              "            console.error('Error during call to suggestCharts:', error);\n",
              "          }\n",
              "          quickchartButtonEl.classList.remove('colab-df-spinner');\n",
              "          quickchartButtonEl.classList.add('colab-df-quickchart-complete');\n",
              "        }\n",
              "        (() => {\n",
              "          let quickchartButtonEl =\n",
              "            document.querySelector('#df-75d686ff-66b6-4842-814a-32a6b848db89 button');\n",
              "          quickchartButtonEl.style.display =\n",
              "            google.colab.kernel.accessAllowed ? 'block' : 'none';\n",
              "        })();\n",
              "      </script>\n",
              "    </div>\n",
              "\n",
              "    </div>\n",
              "  </div>\n"
            ],
            "application/vnd.google.colaboratory.intrinsic+json": {
              "type": "dataframe",
              "variable_name": "df",
              "summary": "{\n  \"name\": \"df\",\n  \"rows\": 7000,\n  \"fields\": [\n    {\n      \"column\": \"Unnamed: 0\",\n      \"properties\": {\n        \"dtype\": \"number\",\n        \"std\": 2020,\n        \"min\": 0,\n        \"max\": 6999,\n        \"num_unique_values\": 7000,\n        \"samples\": [\n          6500,\n          2944,\n          2024\n        ],\n        \"semantic_type\": \"\",\n        \"description\": \"\"\n      }\n    },\n    {\n      \"column\": \"Product_name\",\n      \"properties\": {\n        \"dtype\": \"string\",\n        \"num_unique_values\": 6401,\n        \"samples\": [\n          \"Be Bodywise 5% Niacinamide Body Wash - 5% Lactic Acid Body L...\",\n          \"FAITH & PATIENCE Cupcake Soap\",\n          \"Royal Mirage Original & Jasmine Refreshing Perfumed Body Spr...\"\n        ],\n        \"semantic_type\": \"\",\n        \"description\": \"\"\n      }\n    },\n    {\n      \"column\": \"Original_price\",\n      \"properties\": {\n        \"dtype\": \"category\",\n        \"num_unique_values\": 835,\n        \"samples\": [\n          \"567\",\n          \"837\",\n          \"378\"\n        ],\n        \"semantic_type\": \"\",\n        \"description\": \"\"\n      }\n    },\n    {\n      \"column\": \"Offer_price\",\n      \"properties\": {\n        \"dtype\": \"number\",\n        \"std\": 949,\n        \"min\": 20,\n        \"max\": 30596,\n        \"num_unique_values\": 1248,\n        \"samples\": [\n          307,\n          1106,\n          2600\n        ],\n        \"semantic_type\": \"\",\n        \"description\": \"\"\n      }\n    },\n    {\n      \"column\": \"Offer_percentage\",\n      \"properties\": {\n        \"dtype\": \"category\",\n        \"num_unique_values\": 75,\n        \"samples\": [\n          \"35\",\n          \"39\",\n          \"7\"\n        ],\n        \"semantic_type\": \"\",\n        \"description\": \"\"\n      }\n    },\n    {\n      \"column\": \"Extra_offer\",\n      \"properties\": {\n        \"dtype\": \"category\",\n        \"num_unique_values\": 10,\n        \"samples\": [\n          \"Extra 20% Off\",\n          \"Extra 5% Off\",\n          \"Buy 2 Get 1 Free\"\n        ],\n        \"semantic_type\": \"\",\n        \"description\": \"\"\n      }\n    },\n    {\n      \"column\": \"Shades_and_sizes\",\n      \"properties\": {\n        \"dtype\": \"category\",\n        \"num_unique_values\": 15,\n        \"samples\": [\n          \"8 shades\",\n          \"1 size\",\n          \"Not available\"\n        ],\n        \"semantic_type\": \"\",\n        \"description\": \"\"\n      }\n    },\n    {\n      \"column\": \"Featured_product\",\n      \"properties\": {\n        \"dtype\": \"category\",\n        \"num_unique_values\": 2,\n        \"samples\": [\n          \"Not available\",\n          \"FEATURED\"\n        ],\n        \"semantic_type\": \"\",\n        \"description\": \"\"\n      }\n    },\n    {\n      \"column\": \"Best_seller_product\",\n      \"properties\": {\n        \"dtype\": \"category\",\n        \"num_unique_values\": 2,\n        \"samples\": [\n          \"Not available\",\n          \"BESTSELLER\"\n        ],\n        \"semantic_type\": \"\",\n        \"description\": \"\"\n      }\n    }\n  ]\n}"
            }
          },
          "metadata": {},
          "execution_count": 7
        }
      ],
      "source": [
        "import pandas as pd\n",
        "df=pd.read_csv(\"Nykaa_personal_care_data.csv\")\n",
        "df.head()"
      ]
    },
    {
      "cell_type": "code",
      "source": [
        "df.tail()"
      ],
      "metadata": {
        "colab": {
          "base_uri": "https://localhost:8080/",
          "height": 538
        },
        "id": "swsmE9Bmw2lk",
        "outputId": "26b097ed-3711-4992-a20e-fe482e3667bf"
      },
      "execution_count": 8,
      "outputs": [
        {
          "output_type": "execute_result",
          "data": {
            "text/plain": [
              "      Unnamed: 0                                       Product_name  \\\n",
              "6995        6995  Crazy Corner Two Layer Printed Cotton Masks - ...   \n",
              "6996        6996  Crazy Corner Two Layer Printed Cotton Masks - ...   \n",
              "6997        6997  Tossido 2-7 Yrs. KIDS 3 Ply Premium Cotton Pri...   \n",
              "6998        6998  Crazy Corner Printed Three Layered Resuable Ma...   \n",
              "6999        6999  Crazy Corner Printed Three Layered Reusable Ma...   \n",
              "\n",
              "     Original_price  Offer_price Offer_percentage    Extra_offer  \\\n",
              "6995            599          375               37  Not available   \n",
              "6996           1199          499               58  Not available   \n",
              "6997  Not available          499    Not available  Not available   \n",
              "6998           1799          499               72  Not available   \n",
              "6999           1199          399               67  Not available   \n",
              "\n",
              "     Shades_and_sizes Featured_product Best_seller_product  \n",
              "6995    Not available    Not available       Not available  \n",
              "6996    Not available    Not available       Not available  \n",
              "6997    Not available    Not available       Not available  \n",
              "6998    Not available    Not available       Not available  \n",
              "6999    Not available    Not available       Not available  "
            ],
            "text/html": [
              "\n",
              "  <div id=\"df-2e2a631c-1229-4549-961b-08372eb8025a\" class=\"colab-df-container\">\n",
              "    <div>\n",
              "<style scoped>\n",
              "    .dataframe tbody tr th:only-of-type {\n",
              "        vertical-align: middle;\n",
              "    }\n",
              "\n",
              "    .dataframe tbody tr th {\n",
              "        vertical-align: top;\n",
              "    }\n",
              "\n",
              "    .dataframe thead th {\n",
              "        text-align: right;\n",
              "    }\n",
              "</style>\n",
              "<table border=\"1\" class=\"dataframe\">\n",
              "  <thead>\n",
              "    <tr style=\"text-align: right;\">\n",
              "      <th></th>\n",
              "      <th>Unnamed: 0</th>\n",
              "      <th>Product_name</th>\n",
              "      <th>Original_price</th>\n",
              "      <th>Offer_price</th>\n",
              "      <th>Offer_percentage</th>\n",
              "      <th>Extra_offer</th>\n",
              "      <th>Shades_and_sizes</th>\n",
              "      <th>Featured_product</th>\n",
              "      <th>Best_seller_product</th>\n",
              "    </tr>\n",
              "  </thead>\n",
              "  <tbody>\n",
              "    <tr>\n",
              "      <th>6995</th>\n",
              "      <td>6995</td>\n",
              "      <td>Crazy Corner Two Layer Printed Cotton Masks - ...</td>\n",
              "      <td>599</td>\n",
              "      <td>375</td>\n",
              "      <td>37</td>\n",
              "      <td>Not available</td>\n",
              "      <td>Not available</td>\n",
              "      <td>Not available</td>\n",
              "      <td>Not available</td>\n",
              "    </tr>\n",
              "    <tr>\n",
              "      <th>6996</th>\n",
              "      <td>6996</td>\n",
              "      <td>Crazy Corner Two Layer Printed Cotton Masks - ...</td>\n",
              "      <td>1199</td>\n",
              "      <td>499</td>\n",
              "      <td>58</td>\n",
              "      <td>Not available</td>\n",
              "      <td>Not available</td>\n",
              "      <td>Not available</td>\n",
              "      <td>Not available</td>\n",
              "    </tr>\n",
              "    <tr>\n",
              "      <th>6997</th>\n",
              "      <td>6997</td>\n",
              "      <td>Tossido 2-7 Yrs. KIDS 3 Ply Premium Cotton Pri...</td>\n",
              "      <td>Not available</td>\n",
              "      <td>499</td>\n",
              "      <td>Not available</td>\n",
              "      <td>Not available</td>\n",
              "      <td>Not available</td>\n",
              "      <td>Not available</td>\n",
              "      <td>Not available</td>\n",
              "    </tr>\n",
              "    <tr>\n",
              "      <th>6998</th>\n",
              "      <td>6998</td>\n",
              "      <td>Crazy Corner Printed Three Layered Resuable Ma...</td>\n",
              "      <td>1799</td>\n",
              "      <td>499</td>\n",
              "      <td>72</td>\n",
              "      <td>Not available</td>\n",
              "      <td>Not available</td>\n",
              "      <td>Not available</td>\n",
              "      <td>Not available</td>\n",
              "    </tr>\n",
              "    <tr>\n",
              "      <th>6999</th>\n",
              "      <td>6999</td>\n",
              "      <td>Crazy Corner Printed Three Layered Reusable Ma...</td>\n",
              "      <td>1199</td>\n",
              "      <td>399</td>\n",
              "      <td>67</td>\n",
              "      <td>Not available</td>\n",
              "      <td>Not available</td>\n",
              "      <td>Not available</td>\n",
              "      <td>Not available</td>\n",
              "    </tr>\n",
              "  </tbody>\n",
              "</table>\n",
              "</div>\n",
              "    <div class=\"colab-df-buttons\">\n",
              "\n",
              "  <div class=\"colab-df-container\">\n",
              "    <button class=\"colab-df-convert\" onclick=\"convertToInteractive('df-2e2a631c-1229-4549-961b-08372eb8025a')\"\n",
              "            title=\"Convert this dataframe to an interactive table.\"\n",
              "            style=\"display:none;\">\n",
              "\n",
              "  <svg xmlns=\"http://www.w3.org/2000/svg\" height=\"24px\" viewBox=\"0 -960 960 960\">\n",
              "    <path d=\"M120-120v-720h720v720H120Zm60-500h600v-160H180v160Zm220 220h160v-160H400v160Zm0 220h160v-160H400v160ZM180-400h160v-160H180v160Zm440 0h160v-160H620v160ZM180-180h160v-160H180v160Zm440 0h160v-160H620v160Z\"/>\n",
              "  </svg>\n",
              "    </button>\n",
              "\n",
              "  <style>\n",
              "    .colab-df-container {\n",
              "      display:flex;\n",
              "      gap: 12px;\n",
              "    }\n",
              "\n",
              "    .colab-df-convert {\n",
              "      background-color: #E8F0FE;\n",
              "      border: none;\n",
              "      border-radius: 50%;\n",
              "      cursor: pointer;\n",
              "      display: none;\n",
              "      fill: #1967D2;\n",
              "      height: 32px;\n",
              "      padding: 0 0 0 0;\n",
              "      width: 32px;\n",
              "    }\n",
              "\n",
              "    .colab-df-convert:hover {\n",
              "      background-color: #E2EBFA;\n",
              "      box-shadow: 0px 1px 2px rgba(60, 64, 67, 0.3), 0px 1px 3px 1px rgba(60, 64, 67, 0.15);\n",
              "      fill: #174EA6;\n",
              "    }\n",
              "\n",
              "    .colab-df-buttons div {\n",
              "      margin-bottom: 4px;\n",
              "    }\n",
              "\n",
              "    [theme=dark] .colab-df-convert {\n",
              "      background-color: #3B4455;\n",
              "      fill: #D2E3FC;\n",
              "    }\n",
              "\n",
              "    [theme=dark] .colab-df-convert:hover {\n",
              "      background-color: #434B5C;\n",
              "      box-shadow: 0px 1px 3px 1px rgba(0, 0, 0, 0.15);\n",
              "      filter: drop-shadow(0px 1px 2px rgba(0, 0, 0, 0.3));\n",
              "      fill: #FFFFFF;\n",
              "    }\n",
              "  </style>\n",
              "\n",
              "    <script>\n",
              "      const buttonEl =\n",
              "        document.querySelector('#df-2e2a631c-1229-4549-961b-08372eb8025a button.colab-df-convert');\n",
              "      buttonEl.style.display =\n",
              "        google.colab.kernel.accessAllowed ? 'block' : 'none';\n",
              "\n",
              "      async function convertToInteractive(key) {\n",
              "        const element = document.querySelector('#df-2e2a631c-1229-4549-961b-08372eb8025a');\n",
              "        const dataTable =\n",
              "          await google.colab.kernel.invokeFunction('convertToInteractive',\n",
              "                                                    [key], {});\n",
              "        if (!dataTable) return;\n",
              "\n",
              "        const docLinkHtml = 'Like what you see? Visit the ' +\n",
              "          '<a target=\"_blank\" href=https://colab.research.google.com/notebooks/data_table.ipynb>data table notebook</a>'\n",
              "          + ' to learn more about interactive tables.';\n",
              "        element.innerHTML = '';\n",
              "        dataTable['output_type'] = 'display_data';\n",
              "        await google.colab.output.renderOutput(dataTable, element);\n",
              "        const docLink = document.createElement('div');\n",
              "        docLink.innerHTML = docLinkHtml;\n",
              "        element.appendChild(docLink);\n",
              "      }\n",
              "    </script>\n",
              "  </div>\n",
              "\n",
              "\n",
              "    <div id=\"df-ba94b586-3599-4ffa-81af-98d1712b9de9\">\n",
              "      <button class=\"colab-df-quickchart\" onclick=\"quickchart('df-ba94b586-3599-4ffa-81af-98d1712b9de9')\"\n",
              "                title=\"Suggest charts\"\n",
              "                style=\"display:none;\">\n",
              "\n",
              "<svg xmlns=\"http://www.w3.org/2000/svg\" height=\"24px\"viewBox=\"0 0 24 24\"\n",
              "     width=\"24px\">\n",
              "    <g>\n",
              "        <path d=\"M19 3H5c-1.1 0-2 .9-2 2v14c0 1.1.9 2 2 2h14c1.1 0 2-.9 2-2V5c0-1.1-.9-2-2-2zM9 17H7v-7h2v7zm4 0h-2V7h2v10zm4 0h-2v-4h2v4z\"/>\n",
              "    </g>\n",
              "</svg>\n",
              "      </button>\n",
              "\n",
              "<style>\n",
              "  .colab-df-quickchart {\n",
              "      --bg-color: #E8F0FE;\n",
              "      --fill-color: #1967D2;\n",
              "      --hover-bg-color: #E2EBFA;\n",
              "      --hover-fill-color: #174EA6;\n",
              "      --disabled-fill-color: #AAA;\n",
              "      --disabled-bg-color: #DDD;\n",
              "  }\n",
              "\n",
              "  [theme=dark] .colab-df-quickchart {\n",
              "      --bg-color: #3B4455;\n",
              "      --fill-color: #D2E3FC;\n",
              "      --hover-bg-color: #434B5C;\n",
              "      --hover-fill-color: #FFFFFF;\n",
              "      --disabled-bg-color: #3B4455;\n",
              "      --disabled-fill-color: #666;\n",
              "  }\n",
              "\n",
              "  .colab-df-quickchart {\n",
              "    background-color: var(--bg-color);\n",
              "    border: none;\n",
              "    border-radius: 50%;\n",
              "    cursor: pointer;\n",
              "    display: none;\n",
              "    fill: var(--fill-color);\n",
              "    height: 32px;\n",
              "    padding: 0;\n",
              "    width: 32px;\n",
              "  }\n",
              "\n",
              "  .colab-df-quickchart:hover {\n",
              "    background-color: var(--hover-bg-color);\n",
              "    box-shadow: 0 1px 2px rgba(60, 64, 67, 0.3), 0 1px 3px 1px rgba(60, 64, 67, 0.15);\n",
              "    fill: var(--button-hover-fill-color);\n",
              "  }\n",
              "\n",
              "  .colab-df-quickchart-complete:disabled,\n",
              "  .colab-df-quickchart-complete:disabled:hover {\n",
              "    background-color: var(--disabled-bg-color);\n",
              "    fill: var(--disabled-fill-color);\n",
              "    box-shadow: none;\n",
              "  }\n",
              "\n",
              "  .colab-df-spinner {\n",
              "    border: 2px solid var(--fill-color);\n",
              "    border-color: transparent;\n",
              "    border-bottom-color: var(--fill-color);\n",
              "    animation:\n",
              "      spin 1s steps(1) infinite;\n",
              "  }\n",
              "\n",
              "  @keyframes spin {\n",
              "    0% {\n",
              "      border-color: transparent;\n",
              "      border-bottom-color: var(--fill-color);\n",
              "      border-left-color: var(--fill-color);\n",
              "    }\n",
              "    20% {\n",
              "      border-color: transparent;\n",
              "      border-left-color: var(--fill-color);\n",
              "      border-top-color: var(--fill-color);\n",
              "    }\n",
              "    30% {\n",
              "      border-color: transparent;\n",
              "      border-left-color: var(--fill-color);\n",
              "      border-top-color: var(--fill-color);\n",
              "      border-right-color: var(--fill-color);\n",
              "    }\n",
              "    40% {\n",
              "      border-color: transparent;\n",
              "      border-right-color: var(--fill-color);\n",
              "      border-top-color: var(--fill-color);\n",
              "    }\n",
              "    60% {\n",
              "      border-color: transparent;\n",
              "      border-right-color: var(--fill-color);\n",
              "    }\n",
              "    80% {\n",
              "      border-color: transparent;\n",
              "      border-right-color: var(--fill-color);\n",
              "      border-bottom-color: var(--fill-color);\n",
              "    }\n",
              "    90% {\n",
              "      border-color: transparent;\n",
              "      border-bottom-color: var(--fill-color);\n",
              "    }\n",
              "  }\n",
              "</style>\n",
              "\n",
              "      <script>\n",
              "        async function quickchart(key) {\n",
              "          const quickchartButtonEl =\n",
              "            document.querySelector('#' + key + ' button');\n",
              "          quickchartButtonEl.disabled = true;  // To prevent multiple clicks.\n",
              "          quickchartButtonEl.classList.add('colab-df-spinner');\n",
              "          try {\n",
              "            const charts = await google.colab.kernel.invokeFunction(\n",
              "                'suggestCharts', [key], {});\n",
              "          } catch (error) {\n",
              "            console.error('Error during call to suggestCharts:', error);\n",
              "          }\n",
              "          quickchartButtonEl.classList.remove('colab-df-spinner');\n",
              "          quickchartButtonEl.classList.add('colab-df-quickchart-complete');\n",
              "        }\n",
              "        (() => {\n",
              "          let quickchartButtonEl =\n",
              "            document.querySelector('#df-ba94b586-3599-4ffa-81af-98d1712b9de9 button');\n",
              "          quickchartButtonEl.style.display =\n",
              "            google.colab.kernel.accessAllowed ? 'block' : 'none';\n",
              "        })();\n",
              "      </script>\n",
              "    </div>\n",
              "\n",
              "    </div>\n",
              "  </div>\n"
            ],
            "application/vnd.google.colaboratory.intrinsic+json": {
              "type": "dataframe",
              "summary": "{\n  \"name\": \"df\",\n  \"rows\": 5,\n  \"fields\": [\n    {\n      \"column\": \"Unnamed: 0\",\n      \"properties\": {\n        \"dtype\": \"number\",\n        \"std\": 1,\n        \"min\": 6995,\n        \"max\": 6999,\n        \"num_unique_values\": 5,\n        \"samples\": [\n          6996,\n          6999,\n          6997\n        ],\n        \"semantic_type\": \"\",\n        \"description\": \"\"\n      }\n    },\n    {\n      \"column\": \"Product_name\",\n      \"properties\": {\n        \"dtype\": \"string\",\n        \"num_unique_values\": 5,\n        \"samples\": [\n          \"Crazy Corner Two Layer Printed Cotton Masks - Pack of 5\",\n          \"Crazy Corner Printed Three Layered Reusable Masks ( Pack Of ...\",\n          \"Tossido 2-7 Yrs. KIDS 3 Ply Premium Cotton Printed Masks Pac...\"\n        ],\n        \"semantic_type\": \"\",\n        \"description\": \"\"\n      }\n    },\n    {\n      \"column\": \"Original_price\",\n      \"properties\": {\n        \"dtype\": \"string\",\n        \"num_unique_values\": 4,\n        \"samples\": [\n          \"1199\",\n          \"1799\",\n          \"599\"\n        ],\n        \"semantic_type\": \"\",\n        \"description\": \"\"\n      }\n    },\n    {\n      \"column\": \"Offer_price\",\n      \"properties\": {\n        \"dtype\": \"number\",\n        \"std\": 61,\n        \"min\": 375,\n        \"max\": 499,\n        \"num_unique_values\": 3,\n        \"samples\": [\n          375,\n          499,\n          399\n        ],\n        \"semantic_type\": \"\",\n        \"description\": \"\"\n      }\n    },\n    {\n      \"column\": \"Offer_percentage\",\n      \"properties\": {\n        \"dtype\": \"string\",\n        \"num_unique_values\": 5,\n        \"samples\": [\n          \"58\",\n          \"67\",\n          \"Not available\"\n        ],\n        \"semantic_type\": \"\",\n        \"description\": \"\"\n      }\n    },\n    {\n      \"column\": \"Extra_offer\",\n      \"properties\": {\n        \"dtype\": \"category\",\n        \"num_unique_values\": 1,\n        \"samples\": [\n          \"Not available\"\n        ],\n        \"semantic_type\": \"\",\n        \"description\": \"\"\n      }\n    },\n    {\n      \"column\": \"Shades_and_sizes\",\n      \"properties\": {\n        \"dtype\": \"category\",\n        \"num_unique_values\": 1,\n        \"samples\": [\n          \"Not available\"\n        ],\n        \"semantic_type\": \"\",\n        \"description\": \"\"\n      }\n    },\n    {\n      \"column\": \"Featured_product\",\n      \"properties\": {\n        \"dtype\": \"category\",\n        \"num_unique_values\": 1,\n        \"samples\": [\n          \"Not available\"\n        ],\n        \"semantic_type\": \"\",\n        \"description\": \"\"\n      }\n    },\n    {\n      \"column\": \"Best_seller_product\",\n      \"properties\": {\n        \"dtype\": \"category\",\n        \"num_unique_values\": 1,\n        \"samples\": [\n          \"Not available\"\n        ],\n        \"semantic_type\": \"\",\n        \"description\": \"\"\n      }\n    }\n  ]\n}"
            }
          },
          "metadata": {},
          "execution_count": 8
        }
      ]
    },
    {
      "cell_type": "code",
      "source": [
        "df.dtypes"
      ],
      "metadata": {
        "colab": {
          "base_uri": "https://localhost:8080/",
          "height": 366
        },
        "id": "eYneI0cKxdaI",
        "outputId": "c1affe77-f424-46c0-ffdb-ad477c04a191"
      },
      "execution_count": 9,
      "outputs": [
        {
          "output_type": "execute_result",
          "data": {
            "text/plain": [
              "Unnamed: 0              int64\n",
              "Product_name           object\n",
              "Original_price         object\n",
              "Offer_price             int64\n",
              "Offer_percentage       object\n",
              "Extra_offer            object\n",
              "Shades_and_sizes       object\n",
              "Featured_product       object\n",
              "Best_seller_product    object\n",
              "dtype: object"
            ],
            "text/html": [
              "<div>\n",
              "<style scoped>\n",
              "    .dataframe tbody tr th:only-of-type {\n",
              "        vertical-align: middle;\n",
              "    }\n",
              "\n",
              "    .dataframe tbody tr th {\n",
              "        vertical-align: top;\n",
              "    }\n",
              "\n",
              "    .dataframe thead th {\n",
              "        text-align: right;\n",
              "    }\n",
              "</style>\n",
              "<table border=\"1\" class=\"dataframe\">\n",
              "  <thead>\n",
              "    <tr style=\"text-align: right;\">\n",
              "      <th></th>\n",
              "      <th>0</th>\n",
              "    </tr>\n",
              "  </thead>\n",
              "  <tbody>\n",
              "    <tr>\n",
              "      <th>Unnamed: 0</th>\n",
              "      <td>int64</td>\n",
              "    </tr>\n",
              "    <tr>\n",
              "      <th>Product_name</th>\n",
              "      <td>object</td>\n",
              "    </tr>\n",
              "    <tr>\n",
              "      <th>Original_price</th>\n",
              "      <td>object</td>\n",
              "    </tr>\n",
              "    <tr>\n",
              "      <th>Offer_price</th>\n",
              "      <td>int64</td>\n",
              "    </tr>\n",
              "    <tr>\n",
              "      <th>Offer_percentage</th>\n",
              "      <td>object</td>\n",
              "    </tr>\n",
              "    <tr>\n",
              "      <th>Extra_offer</th>\n",
              "      <td>object</td>\n",
              "    </tr>\n",
              "    <tr>\n",
              "      <th>Shades_and_sizes</th>\n",
              "      <td>object</td>\n",
              "    </tr>\n",
              "    <tr>\n",
              "      <th>Featured_product</th>\n",
              "      <td>object</td>\n",
              "    </tr>\n",
              "    <tr>\n",
              "      <th>Best_seller_product</th>\n",
              "      <td>object</td>\n",
              "    </tr>\n",
              "  </tbody>\n",
              "</table>\n",
              "</div><br><label><b>dtype:</b> object</label>"
            ]
          },
          "metadata": {},
          "execution_count": 9
        }
      ]
    },
    {
      "cell_type": "code",
      "source": [
        "df.describe()"
      ],
      "metadata": {
        "colab": {
          "base_uri": "https://localhost:8080/",
          "height": 300
        },
        "id": "plJaqnZ-xmCj",
        "outputId": "be87b467-ad7a-49a9-e9fe-a0f0ae3febea"
      },
      "execution_count": 10,
      "outputs": [
        {
          "output_type": "execute_result",
          "data": {
            "text/plain": [
              "        Unnamed: 0   Offer_price\n",
              "count  7000.000000   7000.000000\n",
              "mean   3499.500000    641.161429\n",
              "std    2020.870275    949.236799\n",
              "min       0.000000     20.000000\n",
              "25%    1749.750000    225.000000\n",
              "50%    3499.500000    389.000000\n",
              "75%    5249.250000    715.000000\n",
              "max    6999.000000  30596.000000"
            ],
            "text/html": [
              "\n",
              "  <div id=\"df-b900d4c9-6f1f-4749-90f1-2300695ab635\" class=\"colab-df-container\">\n",
              "    <div>\n",
              "<style scoped>\n",
              "    .dataframe tbody tr th:only-of-type {\n",
              "        vertical-align: middle;\n",
              "    }\n",
              "\n",
              "    .dataframe tbody tr th {\n",
              "        vertical-align: top;\n",
              "    }\n",
              "\n",
              "    .dataframe thead th {\n",
              "        text-align: right;\n",
              "    }\n",
              "</style>\n",
              "<table border=\"1\" class=\"dataframe\">\n",
              "  <thead>\n",
              "    <tr style=\"text-align: right;\">\n",
              "      <th></th>\n",
              "      <th>Unnamed: 0</th>\n",
              "      <th>Offer_price</th>\n",
              "    </tr>\n",
              "  </thead>\n",
              "  <tbody>\n",
              "    <tr>\n",
              "      <th>count</th>\n",
              "      <td>7000.000000</td>\n",
              "      <td>7000.000000</td>\n",
              "    </tr>\n",
              "    <tr>\n",
              "      <th>mean</th>\n",
              "      <td>3499.500000</td>\n",
              "      <td>641.161429</td>\n",
              "    </tr>\n",
              "    <tr>\n",
              "      <th>std</th>\n",
              "      <td>2020.870275</td>\n",
              "      <td>949.236799</td>\n",
              "    </tr>\n",
              "    <tr>\n",
              "      <th>min</th>\n",
              "      <td>0.000000</td>\n",
              "      <td>20.000000</td>\n",
              "    </tr>\n",
              "    <tr>\n",
              "      <th>25%</th>\n",
              "      <td>1749.750000</td>\n",
              "      <td>225.000000</td>\n",
              "    </tr>\n",
              "    <tr>\n",
              "      <th>50%</th>\n",
              "      <td>3499.500000</td>\n",
              "      <td>389.000000</td>\n",
              "    </tr>\n",
              "    <tr>\n",
              "      <th>75%</th>\n",
              "      <td>5249.250000</td>\n",
              "      <td>715.000000</td>\n",
              "    </tr>\n",
              "    <tr>\n",
              "      <th>max</th>\n",
              "      <td>6999.000000</td>\n",
              "      <td>30596.000000</td>\n",
              "    </tr>\n",
              "  </tbody>\n",
              "</table>\n",
              "</div>\n",
              "    <div class=\"colab-df-buttons\">\n",
              "\n",
              "  <div class=\"colab-df-container\">\n",
              "    <button class=\"colab-df-convert\" onclick=\"convertToInteractive('df-b900d4c9-6f1f-4749-90f1-2300695ab635')\"\n",
              "            title=\"Convert this dataframe to an interactive table.\"\n",
              "            style=\"display:none;\">\n",
              "\n",
              "  <svg xmlns=\"http://www.w3.org/2000/svg\" height=\"24px\" viewBox=\"0 -960 960 960\">\n",
              "    <path d=\"M120-120v-720h720v720H120Zm60-500h600v-160H180v160Zm220 220h160v-160H400v160Zm0 220h160v-160H400v160ZM180-400h160v-160H180v160Zm440 0h160v-160H620v160ZM180-180h160v-160H180v160Zm440 0h160v-160H620v160Z\"/>\n",
              "  </svg>\n",
              "    </button>\n",
              "\n",
              "  <style>\n",
              "    .colab-df-container {\n",
              "      display:flex;\n",
              "      gap: 12px;\n",
              "    }\n",
              "\n",
              "    .colab-df-convert {\n",
              "      background-color: #E8F0FE;\n",
              "      border: none;\n",
              "      border-radius: 50%;\n",
              "      cursor: pointer;\n",
              "      display: none;\n",
              "      fill: #1967D2;\n",
              "      height: 32px;\n",
              "      padding: 0 0 0 0;\n",
              "      width: 32px;\n",
              "    }\n",
              "\n",
              "    .colab-df-convert:hover {\n",
              "      background-color: #E2EBFA;\n",
              "      box-shadow: 0px 1px 2px rgba(60, 64, 67, 0.3), 0px 1px 3px 1px rgba(60, 64, 67, 0.15);\n",
              "      fill: #174EA6;\n",
              "    }\n",
              "\n",
              "    .colab-df-buttons div {\n",
              "      margin-bottom: 4px;\n",
              "    }\n",
              "\n",
              "    [theme=dark] .colab-df-convert {\n",
              "      background-color: #3B4455;\n",
              "      fill: #D2E3FC;\n",
              "    }\n",
              "\n",
              "    [theme=dark] .colab-df-convert:hover {\n",
              "      background-color: #434B5C;\n",
              "      box-shadow: 0px 1px 3px 1px rgba(0, 0, 0, 0.15);\n",
              "      filter: drop-shadow(0px 1px 2px rgba(0, 0, 0, 0.3));\n",
              "      fill: #FFFFFF;\n",
              "    }\n",
              "  </style>\n",
              "\n",
              "    <script>\n",
              "      const buttonEl =\n",
              "        document.querySelector('#df-b900d4c9-6f1f-4749-90f1-2300695ab635 button.colab-df-convert');\n",
              "      buttonEl.style.display =\n",
              "        google.colab.kernel.accessAllowed ? 'block' : 'none';\n",
              "\n",
              "      async function convertToInteractive(key) {\n",
              "        const element = document.querySelector('#df-b900d4c9-6f1f-4749-90f1-2300695ab635');\n",
              "        const dataTable =\n",
              "          await google.colab.kernel.invokeFunction('convertToInteractive',\n",
              "                                                    [key], {});\n",
              "        if (!dataTable) return;\n",
              "\n",
              "        const docLinkHtml = 'Like what you see? Visit the ' +\n",
              "          '<a target=\"_blank\" href=https://colab.research.google.com/notebooks/data_table.ipynb>data table notebook</a>'\n",
              "          + ' to learn more about interactive tables.';\n",
              "        element.innerHTML = '';\n",
              "        dataTable['output_type'] = 'display_data';\n",
              "        await google.colab.output.renderOutput(dataTable, element);\n",
              "        const docLink = document.createElement('div');\n",
              "        docLink.innerHTML = docLinkHtml;\n",
              "        element.appendChild(docLink);\n",
              "      }\n",
              "    </script>\n",
              "  </div>\n",
              "\n",
              "\n",
              "    <div id=\"df-dbb162f3-fde7-4bad-90d3-80f4d952beae\">\n",
              "      <button class=\"colab-df-quickchart\" onclick=\"quickchart('df-dbb162f3-fde7-4bad-90d3-80f4d952beae')\"\n",
              "                title=\"Suggest charts\"\n",
              "                style=\"display:none;\">\n",
              "\n",
              "<svg xmlns=\"http://www.w3.org/2000/svg\" height=\"24px\"viewBox=\"0 0 24 24\"\n",
              "     width=\"24px\">\n",
              "    <g>\n",
              "        <path d=\"M19 3H5c-1.1 0-2 .9-2 2v14c0 1.1.9 2 2 2h14c1.1 0 2-.9 2-2V5c0-1.1-.9-2-2-2zM9 17H7v-7h2v7zm4 0h-2V7h2v10zm4 0h-2v-4h2v4z\"/>\n",
              "    </g>\n",
              "</svg>\n",
              "      </button>\n",
              "\n",
              "<style>\n",
              "  .colab-df-quickchart {\n",
              "      --bg-color: #E8F0FE;\n",
              "      --fill-color: #1967D2;\n",
              "      --hover-bg-color: #E2EBFA;\n",
              "      --hover-fill-color: #174EA6;\n",
              "      --disabled-fill-color: #AAA;\n",
              "      --disabled-bg-color: #DDD;\n",
              "  }\n",
              "\n",
              "  [theme=dark] .colab-df-quickchart {\n",
              "      --bg-color: #3B4455;\n",
              "      --fill-color: #D2E3FC;\n",
              "      --hover-bg-color: #434B5C;\n",
              "      --hover-fill-color: #FFFFFF;\n",
              "      --disabled-bg-color: #3B4455;\n",
              "      --disabled-fill-color: #666;\n",
              "  }\n",
              "\n",
              "  .colab-df-quickchart {\n",
              "    background-color: var(--bg-color);\n",
              "    border: none;\n",
              "    border-radius: 50%;\n",
              "    cursor: pointer;\n",
              "    display: none;\n",
              "    fill: var(--fill-color);\n",
              "    height: 32px;\n",
              "    padding: 0;\n",
              "    width: 32px;\n",
              "  }\n",
              "\n",
              "  .colab-df-quickchart:hover {\n",
              "    background-color: var(--hover-bg-color);\n",
              "    box-shadow: 0 1px 2px rgba(60, 64, 67, 0.3), 0 1px 3px 1px rgba(60, 64, 67, 0.15);\n",
              "    fill: var(--button-hover-fill-color);\n",
              "  }\n",
              "\n",
              "  .colab-df-quickchart-complete:disabled,\n",
              "  .colab-df-quickchart-complete:disabled:hover {\n",
              "    background-color: var(--disabled-bg-color);\n",
              "    fill: var(--disabled-fill-color);\n",
              "    box-shadow: none;\n",
              "  }\n",
              "\n",
              "  .colab-df-spinner {\n",
              "    border: 2px solid var(--fill-color);\n",
              "    border-color: transparent;\n",
              "    border-bottom-color: var(--fill-color);\n",
              "    animation:\n",
              "      spin 1s steps(1) infinite;\n",
              "  }\n",
              "\n",
              "  @keyframes spin {\n",
              "    0% {\n",
              "      border-color: transparent;\n",
              "      border-bottom-color: var(--fill-color);\n",
              "      border-left-color: var(--fill-color);\n",
              "    }\n",
              "    20% {\n",
              "      border-color: transparent;\n",
              "      border-left-color: var(--fill-color);\n",
              "      border-top-color: var(--fill-color);\n",
              "    }\n",
              "    30% {\n",
              "      border-color: transparent;\n",
              "      border-left-color: var(--fill-color);\n",
              "      border-top-color: var(--fill-color);\n",
              "      border-right-color: var(--fill-color);\n",
              "    }\n",
              "    40% {\n",
              "      border-color: transparent;\n",
              "      border-right-color: var(--fill-color);\n",
              "      border-top-color: var(--fill-color);\n",
              "    }\n",
              "    60% {\n",
              "      border-color: transparent;\n",
              "      border-right-color: var(--fill-color);\n",
              "    }\n",
              "    80% {\n",
              "      border-color: transparent;\n",
              "      border-right-color: var(--fill-color);\n",
              "      border-bottom-color: var(--fill-color);\n",
              "    }\n",
              "    90% {\n",
              "      border-color: transparent;\n",
              "      border-bottom-color: var(--fill-color);\n",
              "    }\n",
              "  }\n",
              "</style>\n",
              "\n",
              "      <script>\n",
              "        async function quickchart(key) {\n",
              "          const quickchartButtonEl =\n",
              "            document.querySelector('#' + key + ' button');\n",
              "          quickchartButtonEl.disabled = true;  // To prevent multiple clicks.\n",
              "          quickchartButtonEl.classList.add('colab-df-spinner');\n",
              "          try {\n",
              "            const charts = await google.colab.kernel.invokeFunction(\n",
              "                'suggestCharts', [key], {});\n",
              "          } catch (error) {\n",
              "            console.error('Error during call to suggestCharts:', error);\n",
              "          }\n",
              "          quickchartButtonEl.classList.remove('colab-df-spinner');\n",
              "          quickchartButtonEl.classList.add('colab-df-quickchart-complete');\n",
              "        }\n",
              "        (() => {\n",
              "          let quickchartButtonEl =\n",
              "            document.querySelector('#df-dbb162f3-fde7-4bad-90d3-80f4d952beae button');\n",
              "          quickchartButtonEl.style.display =\n",
              "            google.colab.kernel.accessAllowed ? 'block' : 'none';\n",
              "        })();\n",
              "      </script>\n",
              "    </div>\n",
              "\n",
              "    </div>\n",
              "  </div>\n"
            ],
            "application/vnd.google.colaboratory.intrinsic+json": {
              "type": "dataframe",
              "summary": "{\n  \"name\": \"df\",\n  \"rows\": 8,\n  \"fields\": [\n    {\n      \"column\": \"Unnamed: 0\",\n      \"properties\": {\n        \"dtype\": \"number\",\n        \"std\": 2522.6149078742014,\n        \"min\": 0.0,\n        \"max\": 7000.0,\n        \"num_unique_values\": 7,\n        \"samples\": [\n          7000.0,\n          3499.5,\n          5249.25\n        ],\n        \"semantic_type\": \"\",\n        \"description\": \"\"\n      }\n    },\n    {\n      \"column\": \"Offer_price\",\n      \"properties\": {\n        \"dtype\": \"number\",\n        \"std\": 10567.815775112613,\n        \"min\": 20.0,\n        \"max\": 30596.0,\n        \"num_unique_values\": 8,\n        \"samples\": [\n          641.1614285714286,\n          389.0,\n          7000.0\n        ],\n        \"semantic_type\": \"\",\n        \"description\": \"\"\n      }\n    }\n  ]\n}"
            }
          },
          "metadata": {},
          "execution_count": 10
        }
      ]
    },
    {
      "cell_type": "code",
      "source": [
        "df.info()"
      ],
      "metadata": {
        "colab": {
          "base_uri": "https://localhost:8080/"
        },
        "id": "Is_KhzPIx4PD",
        "outputId": "accfad57-0ebf-4277-f985-a25efa95f881"
      },
      "execution_count": 11,
      "outputs": [
        {
          "output_type": "stream",
          "name": "stdout",
          "text": [
            "<class 'pandas.core.frame.DataFrame'>\n",
            "RangeIndex: 7000 entries, 0 to 6999\n",
            "Data columns (total 9 columns):\n",
            " #   Column               Non-Null Count  Dtype \n",
            "---  ------               --------------  ----- \n",
            " 0   Unnamed: 0           7000 non-null   int64 \n",
            " 1   Product_name         7000 non-null   object\n",
            " 2   Original_price       7000 non-null   object\n",
            " 3   Offer_price          7000 non-null   int64 \n",
            " 4   Offer_percentage     7000 non-null   object\n",
            " 5   Extra_offer          7000 non-null   object\n",
            " 6   Shades_and_sizes     7000 non-null   object\n",
            " 7   Featured_product     7000 non-null   object\n",
            " 8   Best_seller_product  7000 non-null   object\n",
            "dtypes: int64(2), object(7)\n",
            "memory usage: 492.3+ KB\n"
          ]
        }
      ]
    },
    {
      "cell_type": "markdown",
      "source": [
        "**3.Data Cleaning: Check for Missing Values: df.isnull().sum()**"
      ],
      "metadata": {
        "id": "nMWS63eWHwiR"
      }
    },
    {
      "cell_type": "code",
      "source": [
        "import pandas as pd\n",
        "\n",
        "# DataFrame with missing values\n",
        "data = {\n",
        "    'Product_name': ['Nykaa Wanderlust Shower Gel', 'Nykaa Hand & Nail Creme', 'Biotique Skincare Daily Routine Combo', None],\n",
        "    'Original_price': [350, 299, 765, None],\n",
        "    'Shades_and_sizes': ['11 shades', '16 shades', 'Not available', None]\n",
        "}\n",
        "\n",
        "df = pd.DataFrame(data)\n",
        "\n",
        "# Check for missing values in each column\n",
        "missing_values = df.isnull().sum()\n",
        "\n",
        "print(\"Missing values in each column:\")\n",
        "print(missing_values)\n"
      ],
      "metadata": {
        "colab": {
          "base_uri": "https://localhost:8080/"
        },
        "id": "_TJAtA9dDOnZ",
        "outputId": "1779fa75-8337-4ba1-bf9e-5e135c6d8d87"
      },
      "execution_count": 2,
      "outputs": [
        {
          "output_type": "stream",
          "name": "stdout",
          "text": [
            "Missing values in each column:\n",
            "Product_name        1\n",
            "Original_price      1\n",
            "Shades_and_sizes    1\n",
            "dtype: int64\n"
          ]
        }
      ]
    },
    {
      "cell_type": "code",
      "source": [
        "#Fill Missing Values: df.fillna(value)\n",
        "\n",
        "import pandas as pd\n",
        "\n",
        "# Sample DataFrame with missing values (NaN)\n",
        "data = {\n",
        "    'Product_name': ['Nykaa Wanderlust Shower Gel', 'Nykaa Hand & Nail Creme', 'Biotique Skincare Daily Routine Combo', None],\n",
        "    'Original_price': [350, 299, 765, None],\n",
        "    'Shades_and_sizes': ['11 shades', '16 shades', 'Not available', None]\n",
        "}\n",
        "\n",
        "df = pd.DataFrame(data)\n",
        "\n",
        "print(\"Original DataFrame:\")\n",
        "print(df)\n",
        "\n",
        "# Fill missing values with specific values\n",
        "df_filled = df.fillna({\n",
        "    'Product_name': 'Unknown',  # Fill missing Product_name with 'Unknown'\n",
        "    'Original_price': 0,           # Fill missing Original_price with 0\n",
        "    'Shades_and_sizes': 'Unknown'   # Fill missing Shades_and_sizes with 'Unknown'\n",
        "})\n",
        "\n",
        "print(\"\\nDataFrame after filling missing values:\")\n",
        "print(df_filled)\n",
        "\n"
      ],
      "metadata": {
        "colab": {
          "base_uri": "https://localhost:8080/"
        },
        "id": "FfKvnbhrIXPw",
        "outputId": "d2611c90-dc09-4909-b3c2-51a287045072"
      },
      "execution_count": 4,
      "outputs": [
        {
          "output_type": "stream",
          "name": "stdout",
          "text": [
            "Original DataFrame:\n",
            "                            Product_name  Original_price Shades_and_sizes\n",
            "0            Nykaa Wanderlust Shower Gel           350.0        11 shades\n",
            "1                Nykaa Hand & Nail Creme           299.0        16 shades\n",
            "2  Biotique Skincare Daily Routine Combo           765.0    Not available\n",
            "3                                   None             NaN             None\n",
            "\n",
            "DataFrame after filling missing values:\n",
            "                            Product_name  Original_price Shades_and_sizes\n",
            "0            Nykaa Wanderlust Shower Gel           350.0        11 shades\n",
            "1                Nykaa Hand & Nail Creme           299.0        16 shades\n",
            "2  Biotique Skincare Daily Routine Combo           765.0    Not available\n",
            "3                                Unknown             0.0          Unknown\n"
          ]
        }
      ]
    },
    {
      "cell_type": "code",
      "source": [
        "#Drop Missing Values: df.dropna()\n",
        "import pandas as pd\n",
        "\n",
        "# Sample DataFrame with missing values\n",
        "data = {'Name': ['Alice', 'Bob', None, 'David'],\n",
        "        'Age': [25, None, 30, 22],\n",
        "        'City': ['New York', 'Los Angeles', 'Chicago', None]}\n",
        "\n",
        "df = pd.DataFrame(data)\n",
        "\n",
        "# Drop rows with any missing values\n",
        "df_cleaned = df.dropna()\n",
        "\n",
        "print(\"Original DataFrame:\")\n",
        "print(df)\n",
        "print(\"\\nDataFrame after dropping missing values:\")\n",
        "print(df_cleaned)\n"
      ],
      "metadata": {
        "id": "QTVZfaRbPQaS",
        "outputId": "6200586a-68af-45de-d652-dc0b31bce58d",
        "colab": {
          "base_uri": "https://localhost:8080/"
        }
      },
      "execution_count": 5,
      "outputs": [
        {
          "output_type": "stream",
          "name": "stdout",
          "text": [
            "Original DataFrame:\n",
            "    Name   Age         City\n",
            "0  Alice  25.0     New York\n",
            "1    Bob   NaN  Los Angeles\n",
            "2   None  30.0      Chicago\n",
            "3  David  22.0         None\n",
            "\n",
            "DataFrame after dropping missing values:\n",
            "    Name   Age      City\n",
            "0  Alice  25.0  New York\n"
          ]
        }
      ]
    },
    {
      "cell_type": "code",
      "source": [
        "#Rename Columns: df.rename(columns={'old_name': 'new_name'})\n",
        "import pandas as pd\n",
        "\n",
        "# Sample DataFrame\n",
        "data = {'old_name1': [1, 2, 3], 'old_name2': [4, 5, 6]}\n",
        "df = pd.DataFrame(data)\n",
        "\n",
        "# Renaming columns\n",
        "df = df.rename(columns={'old_name1': 'new_name1', 'old_name2': 'new_name2'})\n",
        "\n",
        "print(df)\n"
      ],
      "metadata": {
        "id": "pYqZSLflZXHS",
        "outputId": "ee7eeca0-e3ce-43c3-adf3-3054d1bb0c47",
        "colab": {
          "base_uri": "https://localhost:8080/"
        }
      },
      "execution_count": 6,
      "outputs": [
        {
          "output_type": "stream",
          "name": "stdout",
          "text": [
            "   new_name1  new_name2\n",
            "0          1          4\n",
            "1          2          5\n",
            "2          3          6\n"
          ]
        }
      ]
    },
    {
      "cell_type": "code",
      "source": [
        "#Drop Columns: df.drop(columns=['column_name'])\n",
        "import pandas as pd\n",
        "\n",
        "# Sample DataFrame\n",
        "data = {'A': [1, 2, 3], 'B': [4, 5, 6], 'C': [7, 8, 9]}\n",
        "df = pd.DataFrame(data)\n",
        "\n",
        "# Dropping column 'B'\n",
        "df = df.drop(columns=['B'])\n",
        "\n",
        "print(df)\n"
      ],
      "metadata": {
        "id": "onzhD9-CZjXV",
        "outputId": "de3872d6-eafe-4c3e-f7b9-e0fc3fec8520",
        "colab": {
          "base_uri": "https://localhost:8080/"
        }
      },
      "execution_count": 7,
      "outputs": [
        {
          "output_type": "stream",
          "name": "stdout",
          "text": [
            "   A  C\n",
            "0  1  7\n",
            "1  2  8\n",
            "2  3  9\n"
          ]
        }
      ]
    },
    {
      "cell_type": "markdown",
      "source": [
        "**4.Data Transfermaion: Apply Function: df['column'].apply(lambda x: function(x))**"
      ],
      "metadata": {
        "id": "6NPVNAtPabic"
      }
    },
    {
      "cell_type": "code",
      "source": [
        "import pandas as pd\n",
        "\n",
        "# Sample DataFrame\n",
        "data = {'numbers': [1, 2, 3, 4, 5]}\n",
        "df = pd.DataFrame(data)\n",
        "\n",
        "# Apply a lambda function to square each value in the 'numbers' column\n",
        "df['squared'] = df['numbers'].apply(lambda x: x ** 2)\n",
        "\n",
        "print(df)\n"
      ],
      "metadata": {
        "id": "gTeltweoabLA",
        "outputId": "bd2c4592-f239-48f7-847e-18778defafc8",
        "colab": {
          "base_uri": "https://localhost:8080/"
        }
      },
      "execution_count": 8,
      "outputs": [
        {
          "output_type": "stream",
          "name": "stdout",
          "text": [
            "   numbers  squared\n",
            "0        1        1\n",
            "1        2        4\n",
            "2        3        9\n",
            "3        4       16\n",
            "4        5       25\n"
          ]
        }
      ]
    },
    {
      "cell_type": "code",
      "source": [
        "#Group By and Aggregate: df.groupby('column').agg({'column': 'sum'})\n",
        "import pandas as pd\n",
        "\n",
        "# Sample DataFrame\n",
        "data = {\n",
        "    'Category': ['A', 'B', 'A', 'B', 'C', 'A'],\n",
        "    'Values': [10, 20, 30, 40, 50, 60]\n",
        "}\n",
        "df = pd.DataFrame(data)\n",
        "\n",
        "# Group by 'Category' and aggregate the sum of 'Values'\n",
        "result = df.groupby('Category').agg({'Values': 'sum'})\n",
        "\n",
        "print(result)\n"
      ],
      "metadata": {
        "id": "FQ4fqvodav-m",
        "outputId": "aca80557-06e3-48e4-c6bf-b40942b3fded",
        "colab": {
          "base_uri": "https://localhost:8080/"
        }
      },
      "execution_count": 9,
      "outputs": [
        {
          "output_type": "stream",
          "name": "stdout",
          "text": [
            "          Values\n",
            "Category        \n",
            "A            100\n",
            "B             60\n",
            "C             50\n"
          ]
        }
      ]
    },
    {
      "cell_type": "code",
      "source": [
        "#Pivot Tables: df.pivot_table(index='column1', values='column2',aggfunc='mean')\n",
        "import pandas as pd\n",
        "\n",
        "# Sample DataFrame\n",
        "data = {\n",
        "    'Category': ['A', 'B', 'A', 'B', 'C'],\n",
        "    'Values': [10, 20, 30, 40, 50]\n",
        "}\n",
        "df = pd.DataFrame(data)\n",
        "\n",
        "# Creating a pivot table\n",
        "pivot_table = df.pivot_table(index='Category', values='Values', aggfunc='mean')\n",
        "\n",
        "print(pivot_table)\n"
      ],
      "metadata": {
        "id": "URDwOP9-bPFE",
        "outputId": "caefdf87-57a5-4117-cb72-e34cc442fc9e",
        "colab": {
          "base_uri": "https://localhost:8080/"
        }
      },
      "execution_count": 10,
      "outputs": [
        {
          "output_type": "stream",
          "name": "stdout",
          "text": [
            "          Values\n",
            "Category        \n",
            "A           20.0\n",
            "B           30.0\n",
            "C           50.0\n"
          ]
        }
      ]
    },
    {
      "cell_type": "code",
      "source": [
        "#Merge DataFrames: pd.merge(df1, df2, on='column')\n",
        "import pandas as pd\n",
        "\n",
        "# Create two DataFrames\n",
        "df1 = pd.DataFrame({'ID': [1, 2, 3], 'Name': ['Alice', 'Bob', 'Charlie']})\n",
        "df2 = pd.DataFrame({'ID': [1, 2, 4], 'Age': [25, 30, 35]})\n",
        "\n",
        "# Merge DataFrames on the 'ID' column\n",
        "merged_df = pd.merge(df1, df2, on='ID')\n",
        "\n",
        "print(merged_df)\n"
      ],
      "metadata": {
        "id": "slJqTTWqbgAY",
        "outputId": "1ad866e2-df35-4ecd-8276-4fd12c941658",
        "colab": {
          "base_uri": "https://localhost:8080/"
        }
      },
      "execution_count": 11,
      "outputs": [
        {
          "output_type": "stream",
          "name": "stdout",
          "text": [
            "   ID   Name  Age\n",
            "0   1  Alice   25\n",
            "1   2    Bob   30\n"
          ]
        }
      ]
    },
    {
      "cell_type": "code",
      "source": [
        "#Concatenate DataFrames: pd.concat([df1, df2])\n",
        "import pandas as pd\n",
        "\n",
        "# Create two sample DataFrames\n",
        "df1 = pd.DataFrame({'A': [1, 2], 'B': [3, 4]})\n",
        "df2 = pd.DataFrame({'A': [5, 6], 'B': [7, 8]})\n",
        "\n",
        "# Concatenate DataFrames along rows (default axis=0)\n",
        "result = pd.concat([df1, df2])\n",
        "\n",
        "print(result)\n"
      ],
      "metadata": {
        "id": "DM9d5MB2bn-e",
        "outputId": "b505074b-cd10-4bd7-d6dd-d16f729626e0",
        "colab": {
          "base_uri": "https://localhost:8080/"
        }
      },
      "execution_count": 12,
      "outputs": [
        {
          "output_type": "stream",
          "name": "stdout",
          "text": [
            "   A  B\n",
            "0  1  3\n",
            "1  2  4\n",
            "0  5  7\n",
            "1  6  8\n"
          ]
        }
      ]
    },
    {
      "cell_type": "markdown",
      "source": [
        "**5. Data Visualization Integration**"
      ],
      "metadata": {
        "id": "fmJe4EZS2c41"
      }
    },
    {
      "cell_type": "code",
      "source": [
        "#Histogram: df['column'].hist()\n",
        "import pandas as pd\n",
        "\n",
        "# Create two sample DataFrames\n",
        "df1 = pd.DataFrame({'A': [1, 2], 'B': [3, 4]})\n",
        "df2 = pd.DataFrame({'A': [5, 6], 'B': [7, 8]})\n",
        "\n",
        "# Concatenate DataFrames along rows (default axis=0)\n",
        "result = pd.concat([df1, df2])\n",
        "\n",
        "print(result)\n"
      ],
      "metadata": {
        "id": "wvvQ11VlcEwM",
        "outputId": "7b33f204-cbe9-45ee-c597-b1e2c258bb35",
        "colab": {
          "base_uri": "https://localhost:8080/"
        }
      },
      "execution_count": 1,
      "outputs": [
        {
          "output_type": "stream",
          "name": "stdout",
          "text": [
            "   A  B\n",
            "0  1  3\n",
            "1  2  4\n",
            "0  5  7\n",
            "1  6  8\n"
          ]
        }
      ]
    },
    {
      "cell_type": "code",
      "source": [
        "#Boxplot: df.boxplot(column=['column1', 'column2'])\n",
        "import pandas as pd\n",
        "import numpy as np\n",
        "\n",
        "# Sample DataFrame\n",
        "data = {\n",
        "    'column1': np.random.randint(10, 100, 50),\n",
        "    'column2': np.random.randint(20, 120, 50),\n",
        "    'column3': np.random.randint(10, 110, 50)\n",
        "}\n",
        "df = pd.DataFrame(data)\n",
        "\n",
        "# Boxplot for column1 column2 & column3\n",
        "df.boxplot(column=['column1', 'column2','column3'])\n"
      ],
      "metadata": {
        "id": "qNDcLoq4bU9A",
        "outputId": "ec81cff6-528a-4158-af4c-a196c1fed1dd",
        "colab": {
          "base_uri": "https://localhost:8080/",
          "height": 448
        }
      },
      "execution_count": 5,
      "outputs": [
        {
          "output_type": "execute_result",
          "data": {
            "text/plain": [
              "<Axes: >"
            ]
          },
          "metadata": {},
          "execution_count": 5
        },
        {
          "output_type": "display_data",
          "data": {
            "text/plain": [
              "<Figure size 640x480 with 1 Axes>"
            ],
            "image/png": "[encoded data removed]"
          },
          "metadata": {}
        }
      ]
    },
    {
      "cell_type": "code",
      "source": [
        "#Scatter Plot: df.plot.scatter(x='col1', y='col2')\n",
        "import pandas as pd\n",
        "import matplotlib.pyplot as plt\n",
        "\n",
        "# Sample DataFrame\n",
        "data = {'col1': [1, 2, 3, 4, 5],\n",
        "        'col2': [10, 20, 25, 30, 35]}\n",
        "df = pd.DataFrame(data)\n",
        "\n",
        "# Scatter Plot\n",
        "df.plot.scatter(x='col1', y='col2', color='blue', title='Scatter Plot Example')\n",
        "\n",
        "# Show the plot\n",
        "plt.show()\n"
      ],
      "metadata": {
        "id": "qmiD30cg4L8m",
        "outputId": "313edb51-8ee6-46f0-a6d5-69cc10ba7d3e",
        "colab": {
          "base_uri": "https://localhost:8080/",
          "height": 472
        }
      },
      "execution_count": 6,
      "outputs": [
        {
          "output_type": "display_data",
          "data": {
            "text/plain": [
              "<Figure size 640x480 with 1 Axes>"
            ],
            "image/png": "[encoded data removed]"
          },
          "metadata": {}
        }
      ]
    },
    {
      "cell_type": "code",
      "source": [
        "#Line Plot: df.plot.line()\n",
        "import pandas as pd\n",
        "import matplotlib.pyplot as plt\n",
        "\n",
        "# Sample data\n",
        "data = {\n",
        "    'Year': [2018, 2019, 2020, 2021, 2022],\n",
        "    'Sales': [250, 300, 400, 350, 450]\n",
        "}\n",
        "\n",
        "# Create DataFrame\n",
        "df = pd.DataFrame(data)\n",
        "\n",
        "# Line plot\n",
        "df.plot.line(x='Year', y='Sales', title='Yearly Sales Trend', marker='o')\n",
        "\n",
        "# Show plot\n",
        "plt.show()\n"
      ],
      "metadata": {
        "id": "-l8eEuYy4whT",
        "outputId": "9cfd4789-fd27-4919-a21a-5415093d21f1",
        "colab": {
          "base_uri": "https://localhost:8080/",
          "height": 472
        }
      },
      "execution_count": 7,
      "outputs": [
        {
          "output_type": "display_data",
          "data": {
            "text/plain": [
              "<Figure size 640x480 with 1 Axes>"
            ],
            "image/png": "[encoded data removed]"
          },
          "metadata": {}
        }
      ]
    },
    {
      "cell_type": "code",
      "source": [
        "#Bar Chart: df['column'].value_counts().plot.bar()\n",
        "import pandas as pd\n",
        "import matplotlib.pyplot as plt\n",
        "\n",
        "# Sample DataFrame\n",
        "data = {'Category': ['A', 'B', 'A', 'C', 'B', 'A', 'C', 'C', 'B', 'A']}\n",
        "df = pd.DataFrame(data)\n",
        "\n",
        "# Bar Chart\n",
        "df['Category'].value_counts().plot.bar(color='skyblue', edgecolor='black')\n",
        "plt.title('Category Distribution')\n",
        "plt.xlabel('Categories')\n",
        "plt.ylabel('Count')\n",
        "plt.show()\n"
      ],
      "metadata": {
        "id": "OKLHMhnb5TEX",
        "outputId": "d69b4fa0-30eb-4b14-9936-1edc306a9a1f",
        "colab": {
          "base_uri": "https://localhost:8080/",
          "height": 467
        }
      },
      "execution_count": 8,
      "outputs": [
        {
          "output_type": "display_data",
          "data": {
            "text/plain": [
              "<Figure size 640x480 with 1 Axes>"
            ],
            "image/png": "[encoded data removed]"
          },
          "metadata": {}
        }
      ]
    },
    {
      "cell_type": "markdown",
      "source": [
        "**6. Statistical Analysis**"
      ],
      "metadata": {
        "id": "j6twOGpL5q6e"
      }
    },
    {
      "cell_type": "code",
      "source": [
        "#Correlation Matrix: df.corr()\n",
        "import pandas as pd\n",
        "\n",
        "# Sample DataFrame\n",
        "data = {\n",
        "    'A': [1, 2, 3, 4, 5],\n",
        "    'B': [5, 4, 3, 2, 1],\n",
        "    'C': [2, 3, 4, 5, 6]\n",
        "}\n",
        "\n",
        "df = pd.DataFrame(data)\n",
        "\n",
        "# Compute the correlation matrix\n",
        "correlation_matrix = df.corr()\n",
        "\n",
        "print(correlation_matrix)\n"
      ],
      "metadata": {
        "id": "6L-8ngwy5qSM",
        "outputId": "01b5d21d-c7d4-46c0-c8c7-2eea22b5f35d",
        "colab": {
          "base_uri": "https://localhost:8080/"
        }
      },
      "execution_count": 9,
      "outputs": [
        {
          "output_type": "stream",
          "name": "stdout",
          "text": [
            "     A    B    C\n",
            "A  1.0 -1.0  1.0\n",
            "B -1.0  1.0 -1.0\n",
            "C  1.0 -1.0  1.0\n"
          ]
        }
      ]
    },
    {
      "cell_type": "code",
      "source": [
        "#Covariance Matrix: df.cov()\n",
        "import pandas as pd\n",
        "\n",
        "# Sample DataFrame\n",
        "data = {\n",
        "    'A': [1, 2, 3, 4],\n",
        "    'B': [5, 6, 7, 8],\n",
        "    'C': [9, 10, 11, 12]\n",
        "}\n",
        "df = pd.DataFrame(data)\n",
        "\n",
        "# Calculate covariance matrix\n",
        "cov_matrix = df.cov()\n",
        "\n",
        "print(\"Covariance Matrix:\")\n",
        "print(cov_matrix)\n"
      ],
      "metadata": {
        "id": "6gUnCtkq7-nE",
        "outputId": "810d5f77-4eb9-4253-a531-9921fb410e1a",
        "colab": {
          "base_uri": "https://localhost:8080/"
        }
      },
      "execution_count": 10,
      "outputs": [
        {
          "output_type": "stream",
          "name": "stdout",
          "text": [
            "Covariance Matrix:\n",
            "          A         B         C\n",
            "A  1.666667  1.666667  1.666667\n",
            "B  1.666667  1.666667  1.666667\n",
            "C  1.666667  1.666667  1.666667\n"
          ]
        }
      ]
    },
    {
      "cell_type": "code",
      "source": [
        "#Value Counts: df['column'].value_counts()\n",
        "import pandas as pd\n",
        "\n",
        "# Sample DataFrame\n",
        "data = {'Category': ['A', 'B', 'A', 'C', 'B', 'A', 'C', 'C', 'B']}\n",
        "df = pd.DataFrame(data)\n",
        "\n",
        "# Count occurrences of each unique value in the 'Category' column\n",
        "value_counts = df['Category'].value_counts()\n",
        "\n",
        "print(value_counts)\n"
      ],
      "metadata": {
        "id": "dPxleMkx88S0",
        "outputId": "d87eb680-1ab9-46d8-f668-598eda724090",
        "colab": {
          "base_uri": "https://localhost:8080/"
        }
      },
      "execution_count": 11,
      "outputs": [
        {
          "output_type": "stream",
          "name": "stdout",
          "text": [
            "Category\n",
            "A    3\n",
            "B    3\n",
            "C    3\n",
            "Name: count, dtype: int64\n"
          ]
        }
      ]
    },
    {
      "cell_type": "code",
      "source": [
        "#Unique Values in Column: df['column'].unique()\n",
        "import pandas as pd\n",
        "\n",
        "# Sample DataFrame\n",
        "data = {'Name': ['Alice', 'Bob', 'Alice', 'Eve', 'Bob'],\n",
        "        'Age': [25, 30, 25, 35, 30]}\n",
        "df = pd.DataFrame(data)\n",
        "\n",
        "# Get unique values from the 'Name' column\n",
        "unique_names = df['Name'].unique()\n",
        "\n",
        "print(\"Unique Names:\", unique_names)\n"
      ],
      "metadata": {
        "id": "2MQN2Mc99ph3",
        "outputId": "1f8c38d7-3405-4cb2-9025-e50055f0f03d",
        "colab": {
          "base_uri": "https://localhost:8080/"
        }
      },
      "execution_count": 12,
      "outputs": [
        {
          "output_type": "stream",
          "name": "stdout",
          "text": [
            "Unique Names: ['Alice' 'Bob' 'Eve']\n"
          ]
        }
      ]
    },
    {
      "cell_type": "code",
      "source": [
        "#Number of Unique Values: df['column'].nunique()\n",
        "import pandas as pd\n",
        "\n",
        "# Sample DataFrame\n",
        "data = {'Name': ['Alice', 'Bob', 'Alice', 'David', 'Bob','Anu']}\n",
        "df = pd.DataFrame(data)\n",
        "\n",
        "# Count unique values in the 'Name' column\n",
        "unique_count = df['Name'].nunique()\n",
        "\n",
        "print(f\"Number of unique names: {unique_count}\")\n"
      ],
      "metadata": {
        "id": "WBXJNywE95xH",
        "outputId": "6f8b790a-eac5-40ee-b4ac-19fa2c1f9c07",
        "colab": {
          "base_uri": "https://localhost:8080/"
        }
      },
      "execution_count": 14,
      "outputs": [
        {
          "output_type": "stream",
          "name": "stdout",
          "text": [
            "Number of unique names: 4\n"
          ]
        }
      ]
    },
    {
      "cell_type": "markdown",
      "source": [
        "**7. Indexing and Selection**"
      ],
      "metadata": {
        "id": "OaoxGtd6-d_G"
      }
    },
    {
      "cell_type": "code",
      "source": [
        "#Select Column: df['column']\n",
        "import pandas as pd\n",
        "\n",
        "# Sample DataFrame\n",
        "data = {'Name': ['Alice', 'Bob', 'Charlie'],\n",
        "        'Age': [25, 30, 35],\n",
        "        'City': ['Chennai', 'Mumbai', 'Delhi']}\n",
        "\n",
        "df = pd.DataFrame(data)\n",
        "\n",
        "# Selecting the 'Age' column\n",
        "age_column = df['Age']\n",
        "print(age_column)\n"
      ],
      "metadata": {
        "id": "CSi2kx4z-X4l",
        "outputId": "512eaf98-b9cf-4bf6-fa4b-743c3e34118e",
        "colab": {
          "base_uri": "https://localhost:8080/"
        }
      },
      "execution_count": 15,
      "outputs": [
        {
          "output_type": "stream",
          "name": "stdout",
          "text": [
            "0    25\n",
            "1    30\n",
            "2    35\n",
            "Name: Age, dtype: int64\n"
          ]
        }
      ]
    },
    {
      "cell_type": "code",
      "source": [
        "#Select Multiple Columns: df[['col1', 'col2']]\n",
        "import pandas as pd\n",
        "\n",
        "# Sample DataFrame\n",
        "data = {\n",
        "    'col1': [1, 2, 3],\n",
        "    'col2': [4, 5, 6],\n",
        "    'col3': [7, 8, 9]\n",
        "}\n",
        "df = pd.DataFrame(data)\n",
        "\n",
        "# Selecting multiple columns\n",
        "selected_columns = df[['col1', 'col2']]\n",
        "print(selected_columns)\n"
      ],
      "metadata": {
        "id": "gb9wT5Gy_wBX",
        "outputId": "a79a7271-b5e6-43a3-f191-55a14fa80e84",
        "colab": {
          "base_uri": "https://localhost:8080/"
        }
      },
      "execution_count": 16,
      "outputs": [
        {
          "output_type": "stream",
          "name": "stdout",
          "text": [
            "   col1  col2\n",
            "0     1     4\n",
            "1     2     5\n",
            "2     3     6\n"
          ]
        }
      ]
    },
    {
      "cell_type": "code",
      "source": [
        "#Select Rows by Position: df.iloc[0:5]\n",
        "import pandas as pd\n",
        "\n",
        "# Sample DataFrame\n",
        "data = {'Name': ['Alice', 'Bob', 'Charlie', 'David', 'Eva', 'Frank'],\n",
        "        'Age': [25, 30, 35, 40, 45, 50],\n",
        "        'City': ['New York', 'Los Angeles', 'Chicago', 'Houston', 'Phoenix', 'Seattle']}\n",
        "\n",
        "df = pd.DataFrame(data)\n",
        "\n",
        "# Select rows by position (first 5 rows)\n",
        "selected_rows = df.iloc[0:5]\n",
        "\n",
        "print(selected_rows)\n"
      ],
      "metadata": {
        "id": "PmDSQs0TAbgH",
        "outputId": "99dced1c-7da4-4606-cf49-8d4ff9c651f4",
        "colab": {
          "base_uri": "https://localhost:8080/"
        }
      },
      "execution_count": 17,
      "outputs": [
        {
          "output_type": "stream",
          "name": "stdout",
          "text": [
            "      Name  Age         City\n",
            "0    Alice   25     New York\n",
            "1      Bob   30  Los Angeles\n",
            "2  Charlie   35      Chicago\n",
            "3    David   40      Houston\n",
            "4      Eva   45      Phoenix\n"
          ]
        }
      ]
    },
    {
      "cell_type": "code",
      "source": [
        "#Select Rows by Label: df.loc[0:5]\n",
        "import pandas as pd\n",
        "\n",
        "# Sample DataFrame\n",
        "data = {'Name': ['Alice', 'Bob', 'Charlie', 'David', 'Eve', 'Frank'],\n",
        "        'Age': [25, 30, 35, 40, 45, 50]}\n",
        "df = pd.DataFrame(data, index=[0, 1, 2, 3, 4, 5])\n",
        "\n",
        "# Select rows by label (from 0 to 5 inclusive)\n",
        "selected_rows = df.loc[0:5]\n",
        "\n",
        "print(selected_rows)\n"
      ],
      "metadata": {
        "id": "yoV9S0zpAlqJ",
        "outputId": "9b186a0d-1b2c-4708-9854-99d550f81f53",
        "colab": {
          "base_uri": "https://localhost:8080/"
        }
      },
      "execution_count": 18,
      "outputs": [
        {
          "output_type": "stream",
          "name": "stdout",
          "text": [
            "      Name  Age\n",
            "0    Alice   25\n",
            "1      Bob   30\n",
            "2  Charlie   35\n",
            "3    David   40\n",
            "4      Eve   45\n",
            "5    Frank   50\n"
          ]
        }
      ]
    },
    {
      "cell_type": "code",
      "source": [
        "#Conditional Selection: df[df['column'] > value]\n",
        "import pandas as pd\n",
        "\n",
        "# Sample DataFrame\n",
        "data = {'Name': ['Alice', 'Bob', 'Charlie', 'David'],\n",
        "        'Age': [24, 27, 22, 32]}\n",
        "df = pd.DataFrame(data)\n",
        "\n",
        "# Conditional Selection: Select rows where 'Age' > 25\n",
        "filtered_df = df[df['Age'] > 25]\n",
        "\n",
        "print(filtered_df)\n"
      ],
      "metadata": {
        "id": "T0q8_9DGBT02",
        "outputId": "8d002936-cf9b-4374-c1cb-f7dfb8da445c",
        "colab": {
          "base_uri": "https://localhost:8080/"
        }
      },
      "execution_count": 19,
      "outputs": [
        {
          "output_type": "stream",
          "name": "stdout",
          "text": [
            "    Name  Age\n",
            "1    Bob   27\n",
            "3  David   32\n"
          ]
        }
      ]
    },
    {
      "cell_type": "markdown",
      "source": [
        "**8.Data Formatting and Conversion**"
      ],
      "metadata": {
        "id": "fx3JBSmnCaWl"
      }
    },
    {
      "cell_type": "code",
      "source": [
        "#Convert Data Types: df['column'].astype('type')\n",
        "import pandas as pd\n",
        "\n",
        "# Sample DataFrame\n",
        "data = {'column': ['1', '2', '3', '4']}\n",
        "df = pd.DataFrame(data)\n",
        "\n",
        "# Convert 'column' from string to integer\n",
        "df['column'] = df['column'].astype(int)\n",
        "\n",
        "# Display the DataFrame and its data types\n",
        "print(df)\n",
        "print(df.dtypes)\n"
      ],
      "metadata": {
        "id": "smzxvlXbCZ5a",
        "outputId": "426bde9a-f8ec-4c61-efc6-5db1d378e1d7",
        "colab": {
          "base_uri": "https://localhost:8080/"
        }
      },
      "execution_count": 20,
      "outputs": [
        {
          "output_type": "stream",
          "name": "stdout",
          "text": [
            "   column\n",
            "0       1\n",
            "1       2\n",
            "2       3\n",
            "3       4\n",
            "column    int64\n",
            "dtype: object\n"
          ]
        }
      ]
    },
    {
      "cell_type": "code",
      "source": [
        "#Convert Data Types: df['column'].astype('type')\n",
        "import pandas as pd\n",
        "\n",
        "# Sample DataFrame\n",
        "data = {'column': ['1', '2', '3', '4']}\n",
        "df = pd.DataFrame(data)\n",
        "\n",
        "# Convert 'column' from string to integer\n",
        "df['column'] = df['column'].astype(int)\n",
        "\n",
        "# Display the DataFrame and its data types\n",
        "print(df)\n",
        "print(df.dtypes)\n"
      ],
      "metadata": {
        "id": "B5QdMuH9EQjL",
        "outputId": "5dc68fe7-1bdf-4470-eb9f-7f189bc22f58",
        "colab": {
          "base_uri": "https://localhost:8080/"
        }
      },
      "execution_count": 21,
      "outputs": [
        {
          "output_type": "stream",
          "name": "stdout",
          "text": [
            "   column\n",
            "0       1\n",
            "1       2\n",
            "2       3\n",
            "3       4\n",
            "column    int64\n",
            "dtype: object\n"
          ]
        }
      ]
    },
    {
      "cell_type": "code",
      "source": [
        "#String Operations: df['column'].str.lower()\n",
        "import pandas as pd\n",
        "\n",
        "# Sample DataFrame\n",
        "data = {'Name': ['Alice', 'BOB', 'Charlie', 'DAVID']}\n",
        "df = pd.DataFrame(data)\n",
        "\n",
        "# Convert all strings in the 'Name' column to lowercase\n",
        "df['Name'] = df['Name'].str.lower()\n",
        "\n",
        "print(df)\n"
      ],
      "metadata": {
        "id": "QSjwOLteKtRY",
        "outputId": "4bfba71b-2083-4554-b87a-b176a7bbb2b9",
        "colab": {
          "base_uri": "https://localhost:8080/"
        }
      },
      "execution_count": 22,
      "outputs": [
        {
          "output_type": "stream",
          "name": "stdout",
          "text": [
            "      Name\n",
            "0    alice\n",
            "1      bob\n",
            "2  charlie\n",
            "3    david\n"
          ]
        }
      ]
    },
    {
      "cell_type": "code",
      "source": [
        "#Datetime Conversion: pd.to_datetime(df['column'])\n",
        "import pandas as pd\n",
        "\n",
        "# Sample data\n",
        "data = {'date_column': ['22/10/2025', '23/10/2025', '24/10/2025']}\n",
        "df = pd.DataFrame(data)\n",
        "\n",
        "# Convert to datetime format\n",
        "df['date_column'] = pd.to_datetime(df['date_column'], format='%d/%m/%Y')\n",
        "\n",
        "print(df)\n"
      ],
      "metadata": {
        "id": "9V4ZeQOoK6g4",
        "outputId": "130a5c28-393f-42d1-8566-77d20d787fe0",
        "colab": {
          "base_uri": "https://localhost:8080/"
        }
      },
      "execution_count": 23,
      "outputs": [
        {
          "output_type": "stream",
          "name": "stdout",
          "text": [
            "  date_column\n",
            "0  2025-10-22\n",
            "1  2025-10-23\n",
            "2  2025-10-24\n"
          ]
        }
      ]
    },
    {
      "cell_type": "code",
      "source": [
        "#Setting Index: df.set_index('column')\n",
        "import pandas as pd\n",
        "\n",
        "# Sample DataFrame\n",
        "data = {\n",
        "    'ID': [101, 102, 103],\n",
        "    'Name': ['Alice', 'Bob', 'Charlie'],\n",
        "    'Age': [25, 30, 35]\n",
        "}\n",
        "\n",
        "df = pd.DataFrame(data)\n",
        "\n",
        "# Setting 'ID' column as the index\n",
        "df = df.set_index('ID')\n",
        "\n",
        "print(df)\n"
      ],
      "metadata": {
        "id": "l5E_tQKwNIW4",
        "outputId": "1c8bb3d1-97b5-4925-db69-104a746a2ce8",
        "colab": {
          "base_uri": "https://localhost:8080/"
        }
      },
      "execution_count": 24,
      "outputs": [
        {
          "output_type": "stream",
          "name": "stdout",
          "text": [
            "        Name  Age\n",
            "ID               \n",
            "101    Alice   25\n",
            "102      Bob   30\n",
            "103  Charlie   35\n"
          ]
        }
      ]
    },
    {
      "cell_type": "markdown",
      "source": [
        "**9. Advanced Data Transformation**"
      ],
      "metadata": {
        "id": "gKJRooK3RLbf"
      }
    },
    {
      "cell_type": "code",
      "source": [
        "#Lambda Functions: df.apply(lambda x: x + 1)\n",
        "import pandas as pd\n",
        "\n",
        "# Sample DataFrame\n",
        "data = {'A': [1, 2, 3], 'B': [4, 5, 6]}\n",
        "df = pd.DataFrame(data)\n",
        "\n",
        "# Applying lambda function to increment each element by 1\n",
        "df_transformed = df.apply(lambda x: x + 1)\n",
        "\n",
        "print(df_transformed)\n"
      ],
      "metadata": {
        "id": "3vdLesKVN0Ri",
        "outputId": "a49cf5e9-d6a9-4eaf-cae7-b778e3768abf",
        "colab": {
          "base_uri": "https://localhost:8080/"
        }
      },
      "execution_count": 26,
      "outputs": [
        {
          "output_type": "stream",
          "name": "stdout",
          "text": [
            "   A  B\n",
            "0  2  5\n",
            "1  3  6\n",
            "2  4  7\n"
          ]
        }
      ]
    },
    {
      "cell_type": "code",
      "source": [
        "#Pivot Longer/Wider Format: df.melt(id_vars=['col1'])\n",
        "import pandas as pd\n",
        "\n",
        "# Sample DataFrame in wide format\n",
        "data = {\n",
        "    'ID': [1, 2, 3],\n",
        "    'Name': ['Alice', 'Bob', 'Charlie'],\n",
        "    'Math': [85, 90, 95],\n",
        "    'Science': [88, 92, 96]\n",
        "}\n",
        "\n",
        "df = pd.DataFrame(data)\n",
        "\n",
        "# Using melt to transform to long format\n",
        "long_df = pd.melt(df, id_vars=['ID', 'Name'], var_name='Subject', value_name='Score')\n",
        "\n",
        "print(long_df)\n"
      ],
      "metadata": {
        "id": "ngxpNSo0Ty0H",
        "outputId": "74d35e45-7109-489e-99b0-baed87425472",
        "colab": {
          "base_uri": "https://localhost:8080/"
        }
      },
      "execution_count": 27,
      "outputs": [
        {
          "output_type": "stream",
          "name": "stdout",
          "text": [
            "   ID     Name  Subject  Score\n",
            "0   1    Alice     Math     85\n",
            "1   2      Bob     Math     90\n",
            "2   3  Charlie     Math     95\n",
            "3   1    Alice  Science     88\n",
            "4   2      Bob  Science     92\n",
            "5   3  Charlie  Science     96\n"
          ]
        }
      ]
    },
    {
      "cell_type": "code",
      "source": [
        "#Stack/Unstack: df.stack(), df.unstack()\n",
        "import pandas as pd\n",
        "\n",
        "# Sample DataFrame\n",
        "data = {\n",
        "    'A': [1, 2],\n",
        "    'B': [3, 4],\n",
        "    'C': [5, 6]\n",
        "}\n",
        "df = pd.DataFrame(data, index=['Row1', 'Row2'])\n",
        "\n",
        "# Stack : Convert columns into rows\n",
        "stacked = df.stack()\n",
        "print(\"Stacked DataFrame:\\n\", stacked)\n",
        "\n",
        "# Unstack : Convert rows back into columns\n",
        "unstacked = stacked.unstack()\n",
        "print(\"\\nUnstacked DataFrame:\\n\", unstacked)\n"
      ],
      "metadata": {
        "id": "45nZBAuBUkgs",
        "outputId": "9027839b-a061-41d2-8fd3-b555513855eb",
        "colab": {
          "base_uri": "https://localhost:8080/"
        }
      },
      "execution_count": 28,
      "outputs": [
        {
          "output_type": "stream",
          "name": "stdout",
          "text": [
            "Stacked DataFrame:\n",
            " Row1  A    1\n",
            "      B    3\n",
            "      C    5\n",
            "Row2  A    2\n",
            "      B    4\n",
            "      C    6\n",
            "dtype: int64\n",
            "\n",
            "Unstacked DataFrame:\n",
            "       A  B  C\n",
            "Row1  1  3  5\n",
            "Row2  2  4  6\n"
          ]
        }
      ]
    },
    {
      "cell_type": "code",
      "source": [
        "#Cross Tabulations: pd.crosstab(df['col1'], df['col2'])\n",
        "import pandas as pd\n",
        "\n",
        "# Sample DataFrame\n",
        "data = {'col1': ['A', 'B', 'A', 'B', 'A', 'C'],\n",
        "        'col2': ['X', 'Y', 'X', 'X', 'Y', 'Y']}\n",
        "df = pd.DataFrame(data)\n",
        "\n",
        "# Cross-tabulation\n",
        "crosstab_result = pd.crosstab(df['col1'], df['col2'])\n",
        "\n",
        "print(crosstab_result)\n"
      ],
      "metadata": {
        "id": "bx3SvH0aYKWt",
        "outputId": "a5e9fb7f-afc3-4b03-9ef8-d18a4605885c",
        "colab": {
          "base_uri": "https://localhost:8080/"
        }
      },
      "execution_count": 29,
      "outputs": [
        {
          "output_type": "stream",
          "name": "stdout",
          "text": [
            "col2  X  Y\n",
            "col1      \n",
            "A     2  1\n",
            "B     1  1\n",
            "C     0  1\n"
          ]
        }
      ]
    },
    {
      "cell_type": "markdown",
      "source": [
        "**10. Handling Time Series Data**"
      ],
      "metadata": {
        "id": "BT2CDdUqZYEy"
      }
    },
    {
      "cell_type": "code",
      "source": [
        "#Set Datetime Index: df.set_index(pd.to_datetime(df['date']))\n",
        "import pandas as pd\n",
        "\n",
        "# Sample data\n",
        "data = {'date': ['2025-01-01', '2025-01-02', '2025-01-03'],\n",
        "        'value': [10, 20, 30]}\n",
        "\n",
        "# Create DataFrame\n",
        "df = pd.DataFrame(data)\n",
        "\n",
        "# Set 'date' column as datetime index\n",
        "df.set_index(pd.to_datetime(df['date']), inplace=True)\n",
        "\n",
        "# Drop the original 'date' column if no longer needed\n",
        "df.drop(columns=['date'], inplace=True)\n",
        "\n",
        "print(df)\n"
      ],
      "metadata": {
        "id": "FB1dQ7WFZSlm",
        "outputId": "b82af34e-7cec-4af4-cd97-47d4f7da0b61",
        "colab": {
          "base_uri": "https://localhost:8080/"
        }
      },
      "execution_count": 30,
      "outputs": [
        {
          "output_type": "stream",
          "name": "stdout",
          "text": [
            "            value\n",
            "date             \n",
            "2025-01-01     10\n",
            "2025-01-02     20\n",
            "2025-01-03     30\n"
          ]
        }
      ]
    },
    {
      "cell_type": "code",
      "source": [
        "#Resampling Data: df.resample('M').mean()\n",
        "import pandas as pd\n",
        "\n",
        "# Sample time series data\n",
        "data = {'Date': ['2025-01-01', '2025-01-10', '2025-02-01', '2025-02-15', '2025-03-01'],\n",
        "        'Value': [10, 20, 30, 40, 50]}\n",
        "df = pd.DataFrame(data)\n",
        "\n",
        "# Convert 'Date' column to datetime and set it as index\n",
        "df['Date'] = pd.to_datetime(df['Date'])\n",
        "df.set_index('Date', inplace=True)\n",
        "\n",
        "# Resample data to monthly frequency and calculate the mean\n",
        "resampled_df = df.resample('M').mean()\n",
        "\n",
        "print(resampled_df)\n"
      ],
      "metadata": {
        "id": "omhLhizZZ3Zm",
        "outputId": "3fc8bc0c-0ddd-4139-f9f0-7ecb50d36f60",
        "colab": {
          "base_uri": "https://localhost:8080/"
        }
      },
      "execution_count": 31,
      "outputs": [
        {
          "output_type": "stream",
          "name": "stdout",
          "text": [
            "            Value\n",
            "Date             \n",
            "2025-01-31   15.0\n",
            "2025-02-28   35.0\n",
            "2025-03-31   50.0\n"
          ]
        },
        {
          "output_type": "stream",
          "name": "stderr",
          "text": [
            "/tmp/ipython-input-2759359291.py:14: FutureWarning: 'M' is deprecated and will be removed in a future version, please use 'ME' instead.\n",
            "  resampled_df = df.resample('M').mean()\n"
          ]
        }
      ]
    },
    {
      "cell_type": "code",
      "source": [
        "#Rolling Window Operations: df.rolling(window=5).mean()\n",
        "import pandas as pd\n",
        "\n",
        "# Sample time series data\n",
        "data = {'Date': pd.date_range(start='2023-01-01', periods=10, freq='D'),\n",
        "        'Value': [10, 20, 30, 40, 50, 60, 70, 80, 90, 100]}\n",
        "df = pd.DataFrame(data)\n",
        "\n",
        "# Set 'Date' as the index\n",
        "df.set_index('Date', inplace=True)\n",
        "\n",
        "# Calculate rolling mean with a window size of 5\n",
        "df['Rolling_Mean'] = df['Value'].rolling(window=5).mean()\n",
        "\n",
        "print(df)\n"
      ],
      "metadata": {
        "id": "-jWhqFUSaa_e",
        "outputId": "04fe013a-269e-4bdf-9900-e31300c900b9",
        "colab": {
          "base_uri": "https://localhost:8080/"
        }
      },
      "execution_count": 32,
      "outputs": [
        {
          "output_type": "stream",
          "name": "stdout",
          "text": [
            "            Value  Rolling_Mean\n",
            "Date                           \n",
            "2023-01-01     10           NaN\n",
            "2023-01-02     20           NaN\n",
            "2023-01-03     30           NaN\n",
            "2023-01-04     40           NaN\n",
            "2023-01-05     50          30.0\n",
            "2023-01-06     60          40.0\n",
            "2023-01-07     70          50.0\n",
            "2023-01-08     80          60.0\n",
            "2023-01-09     90          70.0\n",
            "2023-01-10    100          80.0\n"
          ]
        }
      ]
    },
    {
      "cell_type": "markdown",
      "source": [
        "**File Export**"
      ],
      "metadata": {
        "id": "b8LCxVWMctNy"
      }
    },
    {
      "cell_type": "code",
      "source": [
        "#Write to CSV: df.to_csv('filename.csv')\n",
        "import pandas as pd\n",
        "\n",
        "# Sample DataFrame\n",
        "data = {'Name': ['Alice', 'Bob', 'Charlie'],\n",
        "        'Age': [25, 30, 35],\n",
        "        'City': ['New York', 'Los Angeles', 'Chicago']}\n",
        "df = pd.DataFrame(data)\n",
        "\n",
        "# Export DataFrame to CSV\n",
        "df.to_csv('filename.csv', index=False)\n",
        "\n",
        "print(\"DataFrame successfully written to 'filename.csv'\")\n"
      ],
      "metadata": {
        "id": "9qnXoN95cWmR",
        "outputId": "0dbea6d1-6740-48cc-f875-20be96167399",
        "colab": {
          "base_uri": "https://localhost:8080/"
        }
      },
      "execution_count": 33,
      "outputs": [
        {
          "output_type": "stream",
          "name": "stdout",
          "text": [
            "DataFrame successfully written to 'filename.csv'\n"
          ]
        }
      ]
    },
    {
      "cell_type": "code",
      "source": [
        "#Write to Excel: df.to_excel('filename.xlsx')\n",
        "import pandas as pd\n",
        "\n",
        "# Sample DataFrame\n",
        "data = {'Name': ['Alice', 'Bob', 'Charlie'],\n",
        "        'Age': [25, 30, 35],\n",
        "        'City': ['New York', 'Los Angeles', 'Chicago']}\n",
        "df = pd.DataFrame(data)\n",
        "\n",
        "# Export DataFrame to Excel\n",
        "df.to_excel('output.xlsx', index=False)\n",
        "\n",
        "print(\"DataFrame successfully exported to 'output.xlsx'\")"
      ],
      "metadata": {
        "id": "jyt26FZ3dqF2",
        "outputId": "f07ea21a-cfae-41c3-a356-8b82caf54670",
        "colab": {
          "base_uri": "https://localhost:8080/"
        }
      },
      "execution_count": 34,
      "outputs": [
        {
          "output_type": "stream",
          "name": "stdout",
          "text": [
            "DataFrame successfully exported to 'output.xlsx'\n"
          ]
        }
      ]
    },
    {
      "cell_type": "code",
      "source": [
        "#Write to SQL Database: df.to_sql('table_name', connection)\n",
        "import pandas as pd\n",
        "import sqlite3\n",
        "\n",
        "# Sample DataFrame\n",
        "data = {'id': [1, 2, 3], 'name': ['Alice', 'Bob', 'Charlie'], 'age': [25, 30, 35]}\n",
        "df = pd.DataFrame(data)\n",
        "\n",
        "# Establish a connection to SQLite database (or any other database)\n",
        "connection = sqlite3.connect('example.db')\n",
        "\n",
        "# Write DataFrame to SQL table\n",
        "df.to_sql('table_name', connection, if_exists='replace', index=False)\n",
        "\n",
        "# Close the connection\n",
        "connection.close()\n"
      ],
      "metadata": {
        "id": "_J8TDCbyel4G"
      },
      "execution_count": 36,
      "outputs": []
    },
    {
      "cell_type": "markdown",
      "source": [
        "**12. Data Exploration Techniques**"
      ],
      "metadata": {
        "id": "xukQeC-IiqCM"
      }
    },
    {
      "cell_type": "code",
      "source": [
        "#Profile Report (with pandas-profiling): from pandas_profiling import ProfileReport; ProfileReport(df)\n",
        "import pandas as pd\n",
        "from pandas_profiling import ProfileReport\n",
        "\n",
        "# Sample DataFrame\n",
        "data = {'Name': ['Alice', 'Bob', 'Charlie'],\n",
        "        'Age': [25, 30, 35],\n",
        "        'Salary': [50000, 60000, 70000]}\n",
        "df = pd.DataFrame(data)\n",
        "\n",
        "# Generate the profile report\n",
        "profile = ProfileReport(df, title=\"Sample Profile Report\", explorative=True)\n",
        "\n",
        "# Export the report to an HTML file\n",
        "profile.to_file(\"profile_report.html\")\n",
        "\n"
      ],
      "metadata": {
        "id": "Oj1qVFXuhHsG",
        "outputId": "d3283900-3f52-4c4c-c1e9-8881056bb6d1",
        "colab": {
          "base_uri": "https://localhost:8080/",
          "height": 403
        }
      },
      "execution_count": 38,
      "outputs": [
        {
          "output_type": "error",
          "ename": "ModuleNotFoundError",
          "evalue": "No module named 'pandas_profiling'",
          "traceback": [
            "\u001b[0;31m---------------------------------------------------------------------------\u001b[0m",
            "\u001b[0;31mModuleNotFoundError\u001b[0m                       Traceback (most recent call last)",
            "\u001b[0;32m/tmp/ipython-input-3443147304.py\u001b[0m in \u001b[0;36m<cell line: 0>\u001b[0;34m()\u001b[0m\n\u001b[1;32m      1\u001b[0m \u001b[0;31m#Profile Report (with pandas-profiling): from pandas_profiling import ProfileReport; ProfileReport(df)\u001b[0m\u001b[0;34m\u001b[0m\u001b[0;34m\u001b[0m\u001b[0m\n\u001b[1;32m      2\u001b[0m \u001b[0;32mimport\u001b[0m \u001b[0mpandas\u001b[0m \u001b[0;32mas\u001b[0m \u001b[0mpd\u001b[0m\u001b[0;34m\u001b[0m\u001b[0;34m\u001b[0m\u001b[0m\n\u001b[0;32m----> 3\u001b[0;31m \u001b[0;32mfrom\u001b[0m \u001b[0mpandas_profiling\u001b[0m \u001b[0;32mimport\u001b[0m \u001b[0mProfileReport\u001b[0m\u001b[0;34m\u001b[0m\u001b[0;34m\u001b[0m\u001b[0m\n\u001b[0m\u001b[1;32m      4\u001b[0m \u001b[0;34m\u001b[0m\u001b[0m\n\u001b[1;32m      5\u001b[0m \u001b[0;31m# Sample DataFrame\u001b[0m\u001b[0;34m\u001b[0m\u001b[0;34m\u001b[0m\u001b[0m\n",
            "\u001b[0;31mModuleNotFoundError\u001b[0m: No module named 'pandas_profiling'",
            "",
            "\u001b[0;31m---------------------------------------------------------------------------\u001b[0;32m\nNOTE: If your import is failing due to a missing package, you can\nmanually install dependencies using either !pip or !apt.\n\nTo view examples of installing some common dependencies, click the\n\"Open Examples\" button below.\n\u001b[0;31m---------------------------------------------------------------------------\u001b[0m\n"
          ],
          "errorDetails": {
            "actions": [
              {
                "action": "open_url",
                "actionText": "Open Examples",
                "url": "/notebooks/snippets/importing_libraries.ipynb"
              }
            ]
          }
        }
      ]
    },
    {
      "cell_type": "code",
      "source": [],
      "metadata": {
        "id": "3l2EIrXxml9u"
      },
      "execution_count": null,
      "outputs": []
    },
    {
      "cell_type": "code",
      "source": [],
      "metadata": {
        "id": "rPg3EimGml3R"
      },
      "execution_count": null,
      "outputs": []
    }
  ]
}